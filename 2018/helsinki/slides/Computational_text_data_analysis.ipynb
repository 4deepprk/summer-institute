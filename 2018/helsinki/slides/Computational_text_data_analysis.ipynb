{
 "cells": [
  {
   "cell_type": "code",
   "execution_count": null,
   "metadata": {},
   "outputs": [],
   "source": [
    "load( url(\"https://cbail.github.io/Trump_Tweets.Rdata\") )\n",
    "library(tidytext)\n",
    "library(dplyr)\n",
    "tidy_trump_tweets<- trumptweets %>%\n",
    "    select(created_at,text) %>%\n",
    "    unnest_tokens(\"word\", text)"
   ]
  },
  {
   "cell_type": "code",
   "execution_count": null,
   "metadata": {},
   "outputs": [],
   "source": [
    "data(\"stop_words\")\n",
    "tidy_trump_tweets<-tidy_trump_tweets %>%\n",
    "      anti_join(stop_words)\n",
    "\n",
    "tidy_trump_tweets<-tidy_trump_tweets[-grep(\"\\\\b\\\\d+\\\\b\", tidy_trump_tweets$word),]\n",
    "tidy_trump_tweets$word <- gsub(\"\\\\s+\",\"\",tidy_trump_tweets$word)\n",
    "\n",
    "library(SnowballC)\n",
    "  tidy_trump_tweets<-tidy_trump_tweets %>%\n",
    "      mutate_at(\"word\", funs(wordStem((.), language=\"en\")))"
   ]
  },
  {
   "cell_type": "markdown",
   "metadata": {},
   "source": [
    "## What are the most common words?"
   ]
  },
  {
   "cell_type": "code",
   "execution_count": null,
   "metadata": {},
   "outputs": [],
   "source": [
    "trump_tweet_top_words<-\n",
    "   tidy_trump_tweets %>%\n",
    "      anti_join(stop_words) %>%\n",
    "        count(word) %>%\n",
    "        arrange(desc(n))\n",
    "\n",
    "trump_tweet_top_words<-\n",
    "  trump_tweet_top_words[-grep(\"https|t.co|amp|rt\",\n",
    "                              trump_tweet_top_words$word),]\n",
    "\n",
    "#select only top words\n",
    "top_20<-trump_tweet_top_words[1:20,]\n",
    "\n",
    "#create factor variable to sort by frequency\n",
    "trump_tweet_top_words$word <- factor(trump_tweet_top_words$word, levels = trump_tweet_top_words$word[order(trump_tweet_top_words$n,decreasing=TRUE)])\n",
    "\n",
    "\n",
    "library(ggplot2)\n",
    "ggplot(top_20, aes(x=word, y=n, fill=word))+\n",
    "  geom_bar(stat=\"identity\")+\n",
    "  theme_minimal()+\n",
    "  theme(axis.text.x = element_text(angle = 90, hjust = 1))+\n",
    "  ylab(\"Number of Times Word Appears in Trump's Tweets\")+\n",
    "  xlab(\"\")+\n",
    "  guides(fill=FALSE)"
   ]
  },
  {
   "cell_type": "markdown",
   "metadata": {},
   "source": [
    "## Dictonary based approach"
   ]
  },
  {
   "cell_type": "code",
   "execution_count": null,
   "metadata": {},
   "outputs": [],
   "source": [
    "economic_dictionary<-c(\"economy\",\"unemployment\",\"trade\",\"tariffs\")\n",
    "\n",
    "library(stringr)\n",
    "economic_tweets<-trumptweets[str_detect(trumptweets$text, economic_dictionary),]\n",
    "head(economic_tweets$text)\n",
    "\n",
    "dim( economic_tweets )\n",
    "\n",
    "table( economic_tweets$source )"
   ]
  },
  {
   "cell_type": "markdown",
   "metadata": {},
   "source": [
    "## Sentiment analysis"
   ]
  },
  {
   "cell_type": "code",
   "execution_count": null,
   "metadata": {},
   "outputs": [],
   "source": [
    "head( get_sentiments(\"bing\") )"
   ]
  },
  {
   "cell_type": "code",
   "execution_count": null,
   "metadata": {},
   "outputs": [],
   "source": [
    "trump_tweet_sentiment <- tidy_trump_tweets %>%\n",
    "  inner_join(get_sentiments(\"bing\")) %>%\n",
    "    count(created_at, sentiment) \n",
    "\n",
    "head(trump_tweet_sentiment)"
   ]
  },
  {
   "cell_type": "code",
   "execution_count": null,
   "metadata": {},
   "outputs": [],
   "source": [
    "tidy_trump_tweets$date<-as.Date(tidy_trump_tweets$created_at, \n",
    "                                          format=\"%Y-%m-%d %x\")\n",
    "trump_sentiment_plot <-\n",
    "  tidy_trump_tweets %>%\n",
    "    inner_join(get_sentiments(\"bing\")) %>% \n",
    "      filter(sentiment==\"negative\") %>%\n",
    "          count(date, sentiment)\n",
    "\n",
    "library(ggplot2)\n",
    "\n",
    "ggplot(trump_sentiment_plot, aes(x=date, y=n))+\n",
    "  geom_line(color=\"red\")+\n",
    "    theme_minimal()+\n",
    "      ylab(\"Frequency of Negative Words in Trump's Tweets\")+\n",
    "        xlab(\"Date\")"
   ]
  },
  {
   "cell_type": "code",
   "execution_count": null,
   "metadata": {},
   "outputs": [],
   "source": [
    "library(stm)"
   ]
  },
  {
   "cell_type": "code",
   "execution_count": null,
   "metadata": {},
   "outputs": [],
   "source": [
    "head( trumptweets )"
   ]
  },
  {
   "cell_type": "code",
   "execution_count": null,
   "metadata": {},
   "outputs": [],
   "source": [
    "processed <- textProcessor( trumptweets$text, metadata = trumptweets )"
   ]
  },
  {
   "cell_type": "code",
   "execution_count": null,
   "metadata": {},
   "outputs": [],
   "source": [
    "out <- prepDocuments(processed$documents, processed$vocab, processed$meta)"
   ]
  },
  {
   "cell_type": "code",
   "execution_count": null,
   "metadata": {},
   "outputs": [],
   "source": [
    "model <- stm(documents = out$documents, vocab = out$vocab,\n",
    "              K = 0,\n",
    "              max.em.its = 75, data = out$meta,\n",
    "              init.type = \"Spectral\", verbose = FALSE)"
   ]
  },
  {
   "cell_type": "code",
   "execution_count": null,
   "metadata": {},
   "outputs": [],
   "source": [
    "plot( model )"
   ]
  },
  {
   "cell_type": "code",
   "execution_count": null,
   "metadata": {},
   "outputs": [],
   "source": [
    "predict_topics<-estimateEffect(formula = 1 ~ source, stmobj =  model, metadata = out$meta, uncertainty = \"Global\")"
   ]
  },
  {
   "cell_type": "code",
   "execution_count": null,
   "metadata": {},
   "outputs": [],
   "source": [
    "summary(predict_topics )"
   ]
  },
  {
   "cell_type": "code",
   "execution_count": null,
   "metadata": {},
   "outputs": [],
   "source": []
  }
 ],
 "metadata": {
  "kernelspec": {
   "display_name": "R",
   "language": "R",
   "name": "ir"
  },
  "language_info": {
   "codemirror_mode": "r",
   "file_extension": ".r",
   "mimetype": "text/x-r-source",
   "name": "R",
   "pygments_lexer": "r",
   "version": "3.5.0"
  }
 },
 "nbformat": 4,
 "nbformat_minor": 2
}
