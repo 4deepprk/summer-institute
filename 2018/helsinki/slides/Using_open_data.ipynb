{
 "cells": [
  {
   "cell_type": "markdown",
   "metadata": {},
   "source": [
    "## Open data\n",
    "\n",
    "Many public (and even some private) organizations provide nowadays access to their databases.\n",
    "Sites like [data.gov](http://data.gov/) or [Helsinki Region Infoshare](https://hri.fi/) are examples of such services, showing what type of data is available.\n",
    "[Open Knowledge Foundation](https://index.okfn.org/place/) has conducted some global comparisons on the quality and reach of open data too, so this is rather big thing.\n",
    "\n",
    "Many organizations provide open data in different formats, ranging from PDF dumps to more structured data formats.\n",
    "The open data people often discuss about [Five Stars of Open Data](https://5stardata.info/en/) to observe these differences.\n",
    "\n",
    "These demonstrate an interesting and excellent source of _secondary data_ (readymade data) for social scientists and in the best case help you to avoid unnececcarily collection of data."
   ]
  },
  {
   "cell_type": "markdown",
   "metadata": {},
   "source": [
    "### Example: Accessing reservation data"
   ]
  },
  {
   "cell_type": "code",
   "execution_count": 15,
   "metadata": {},
   "outputs": [],
   "source": [
    "## download data\n",
    "\n",
    "library('httr')\n",
    "\n",
    "url <- 'https://api.hel.fi/respa/v1/reservation/?format=json'\n",
    "r <- GET( url )\n",
    "data <- content(r, \"parsed\")"
   ]
  },
  {
   "cell_type": "code",
   "execution_count": 19,
   "metadata": {},
   "outputs": [
    {
     "data": {
      "text/html": [
       "<dl>\n",
       "\t<dt>$url</dt>\n",
       "\t\t<dd>'https://api.hel.fi/respa/v1/reservation/195583/?format=json'</dd>\n",
       "\t<dt>$id</dt>\n",
       "\t\t<dd>195583</dd>\n",
       "\t<dt>$resource</dt>\n",
       "\t\t<dd>'avmsi5qgnw7q'</dd>\n",
       "\t<dt>$begin</dt>\n",
       "\t\t<dd>'2018-06-19T08:00:00+03:00'</dd>\n",
       "\t<dt>$end</dt>\n",
       "\t\t<dd>'2018-06-19T20:30:00+03:00'</dd>\n",
       "\t<dt>$is_own</dt>\n",
       "\t\t<dd>FALSE</dd>\n",
       "\t<dt>$state</dt>\n",
       "\t\t<dd>'confirmed'</dd>\n",
       "\t<dt>$need_manual_confirmation</dt>\n",
       "\t\t<dd>FALSE</dd>\n",
       "\t<dt>$user_permissions</dt>\n",
       "\t\t<dd><dl>\n",
       "\t<dt>$can_delete</dt>\n",
       "\t\t<dd>FALSE</dd>\n",
       "\t<dt>$can_modify</dt>\n",
       "\t\t<dd>FALSE</dd>\n",
       "</dl>\n",
       "</dd>\n",
       "</dl>\n"
      ],
      "text/latex": [
       "\\begin{description}\n",
       "\\item[\\$url] 'https://api.hel.fi/respa/v1/reservation/195583/?format=json'\n",
       "\\item[\\$id] 195583\n",
       "\\item[\\$resource] 'avmsi5qgnw7q'\n",
       "\\item[\\$begin] '2018-06-19T08:00:00+03:00'\n",
       "\\item[\\$end] '2018-06-19T20:30:00+03:00'\n",
       "\\item[\\$is\\_own] FALSE\n",
       "\\item[\\$state] 'confirmed'\n",
       "\\item[\\$need\\_manual\\_confirmation] FALSE\n",
       "\\item[\\$user\\_permissions] \\begin{description}\n",
       "\\item[\\$can\\_delete] FALSE\n",
       "\\item[\\$can\\_modify] FALSE\n",
       "\\end{description}\n",
       "\n",
       "\\end{description}\n"
      ],
      "text/markdown": [
       "$url\n",
       ":   'https://api.hel.fi/respa/v1/reservation/195583/?format=json'\n",
       "$id\n",
       ":   195583\n",
       "$resource\n",
       ":   'avmsi5qgnw7q'\n",
       "$begin\n",
       ":   '2018-06-19T08:00:00+03:00'\n",
       "$end\n",
       ":   '2018-06-19T20:30:00+03:00'\n",
       "$is_own\n",
       ":   FALSE\n",
       "$state\n",
       ":   'confirmed'\n",
       "$need_manual_confirmation\n",
       ":   FALSE\n",
       "$user_permissions\n",
       ":   $can_delete\n",
       ":   FALSE\n",
       "$can_modify\n",
       ":   FALSE\n",
       "\n",
       "\n",
       "\n",
       "\n",
       "\n"
      ],
      "text/plain": [
       "$url\n",
       "[1] \"https://api.hel.fi/respa/v1/reservation/195583/?format=json\"\n",
       "\n",
       "$id\n",
       "[1] 195583\n",
       "\n",
       "$resource\n",
       "[1] \"avmsi5qgnw7q\"\n",
       "\n",
       "$begin\n",
       "[1] \"2018-06-19T08:00:00+03:00\"\n",
       "\n",
       "$end\n",
       "[1] \"2018-06-19T20:30:00+03:00\"\n",
       "\n",
       "$is_own\n",
       "[1] FALSE\n",
       "\n",
       "$state\n",
       "[1] \"confirmed\"\n",
       "\n",
       "$need_manual_confirmation\n",
       "[1] FALSE\n",
       "\n",
       "$user_permissions\n",
       "$user_permissions$can_delete\n",
       "[1] FALSE\n",
       "\n",
       "$user_permissions$can_modify\n",
       "[1] FALSE\n",
       "\n"
      ]
     },
     "metadata": {},
     "output_type": "display_data"
    }
   ],
   "source": [
    "## how does the data look like?\n",
    "# print( data )\n",
    "data$results[[3]]"
   ]
  },
  {
   "cell_type": "code",
   "execution_count": 20,
   "metadata": {},
   "outputs": [
    {
     "data": {
      "text/html": [
       "'https://api.hel.fi/respa/v1/reservation/195583/?format=json'"
      ],
      "text/latex": [
       "'https://api.hel.fi/respa/v1/reservation/195583/?format=json'"
      ],
      "text/markdown": [
       "'https://api.hel.fi/respa/v1/reservation/195583/?format=json'"
      ],
      "text/plain": [
       "[1] \"https://api.hel.fi/respa/v1/reservation/195583/?format=json\""
      ]
     },
     "metadata": {},
     "output_type": "display_data"
    }
   ],
   "source": [
    "data$results[[3]]$url"
   ]
  },
  {
   "cell_type": "code",
   "execution_count": 21,
   "metadata": {},
   "outputs": [
    {
     "data": {
      "text/html": [
       "'avmsi5qgnw7q'"
      ],
      "text/latex": [
       "'avmsi5qgnw7q'"
      ],
      "text/markdown": [
       "'avmsi5qgnw7q'"
      ],
      "text/plain": [
       "[1] \"avmsi5qgnw7q\""
      ]
     },
     "metadata": {},
     "output_type": "display_data"
    }
   ],
   "source": [
    "data$results[[3]]$resource"
   ]
  },
  {
   "cell_type": "code",
   "execution_count": 5,
   "metadata": {},
   "outputs": [
    {
     "data": {
      "text/plain": [
       "resourceids\n",
       "au2elevez5ta au57py4au3vq aurrojvuydfq auzammepvvoq avgejnr6bf7a avgob2oqsdwq \n",
       "           1            1            1            1            1            1 \n",
       "avikpvfrkrqq avikpxdnpbwq avioftvb2d6q avixavga23ra avmsgglzb6ga avmsgmrlb2ma \n",
       "           1            1            1            1            1            1 \n",
       "avmsi32oefjq avmsi5qgnw7q avq63jqdhleq avqjyrgl2yrq avss2kcvjfqa avtv56gilagq \n",
       "           1            1            1            1            1            1 \n",
       "avubglxbjkoq avuy5e2sbzka \n",
       "           1            1 "
      ]
     },
     "metadata": {},
     "output_type": "display_data"
    }
   ],
   "source": [
    "## get all resource IDs as this is linked data\n",
    "\n",
    "res <- function(e) {\n",
    "    return( e$resource )\n",
    "}\n",
    "resourceids <- sapply( data$results, res) \n",
    "\n",
    "table( resourceids )"
   ]
  },
  {
   "cell_type": "code",
   "execution_count": 22,
   "metadata": {},
   "outputs": [],
   "source": [
    "## get resource names based on resource ID\n",
    "\n",
    "resourcenames <- c()\n",
    "\n",
    "for( resid in resourceids ) {\n",
    "    \n",
    "    url <- paste( 'https://api.hel.fi/respa/v1/resource/', resid, '?format=json', sep = '' )\n",
    "    r <- GET( url )\n",
    "    \n",
    "    data <- content(r, \"parsed\")\n",
    "    \n",
    "    name <- data$type$name$fi\n",
    "    \n",
    "    resourcenames <- c( resourcenames, name )\n",
    "}"
   ]
  },
  {
   "cell_type": "code",
   "execution_count": 23,
   "metadata": {},
   "outputs": [
    {
     "data": {
      "text/plain": [
       "resourcenames\n",
       "   Galleria  Kerhohuone  Kokoustila Soittohuone    Työpiste \n",
       "          1           1           1           1          16 "
      ]
     },
     "metadata": {},
     "output_type": "display_data"
    }
   ],
   "source": [
    "table( resourcenames )"
   ]
  },
  {
   "cell_type": "markdown",
   "metadata": {},
   "source": [
    "### Example: The Parliament of Finland\n",
    "\n",
    "Sometimes, those developing the APIs can make things even more complicated.\n",
    "This may be difficult due to technical limitations or sometimes, it may relate to lack of commitment by the organization towards open data.\n",
    "\n",
    "* [Search interface for the data](http://avoindata.eduskunta.fi/search-vaski.html)"
   ]
  },
  {
   "cell_type": "code",
   "execution_count": 14,
   "metadata": {},
   "outputs": [
    {
     "name": "stdout",
     "output_type": "stream",
     "text": [
      "[1] \"<ns11:Siirto xmlns:ns11=\\\"http://www.eduskunta.fi/skeemat/siirto/2011/09/07\\\"><Sanomavalitys xmlns=\\\"http://www.eduskunta.fi/skeemat/siirtokooste/2011/05/17\\\"><ns4:SanomatyyppiNimi xmlns:ns4=\\\"http://www.eduskunta.fi/skeemat/siirtoelementit/2011/05/17\\\">VASKI_JULKVP_CommitteeReport_sv</ns4:SanomatyyppiNimi><ns4:SanomaTunnus xmlns:ns4=\\\"http://www.eduskunta.fi/skeemat/siirtoelementit/2011/05/17\\\">Vaski_VASKI_JULKVP_CommitteeReport_sv_23 huhti 2018_16:15:03 EEST</ns4:SanomaTunnus><ns4:LuontiHetki xmlns:ns4=\\\"http://www.eduskunta.fi/skeemat/siirtoelementit/2011/05/17\\\">2018-04-23T16:15:03.994+03:00</ns4:LuontiHetki><ns4:SiirtoKoodi xmlns:ns4=\\\"http://www.eduskunta.fi/skeemat/siirtoelementit/2011/05/17\\\">paivitys</ns4:SiirtoKoodi><Toimija xmlns=\\\"http://www.vn.fi/skeemat/metatietokooste/2010/04/27\\\" xmlns:s735=\\\"http://www.vn.fi/skeemat/metatietoelementit/2010/04/27\\\" s735:rooliKoodi=\\\"lahettaja\\\"><s735:YhteisoTeksti>Eduskunta</s735:YhteisoTeksti></Toimija><Toimija xmlns=\\\"http://www.vn.fi/skeemat/metatietokooste/2010/04/27\\\" xmlns:s736=\\\"http://www.vn.fi/skeemat/metatietoelementit/2010/04/27\\\" s736:rooliKoodi=\\\"vastaanottaja\\\"><s736:YhteisoTeksti>Eduskunta</s736:YhteisoTeksti></Toimija></Sanomavalitys><ns11:SiirtoMetatieto><jme:JulkaisuMetatieto xmlns:asi=\\\"http://www.vn.fi/skeemat/asiakirjakooste/2010/04/27\\\" xmlns:asi1=\\\"http://www.vn.fi/skeemat/asiakirjaelementit/2010/04/27\\\" xmlns:jme=\\\"http://www.eduskunta.fi/skeemat/julkaisusiirtokooste/2011/12/20\\\" xmlns:met=\\\"http://www.vn.fi/skeemat/metatietokooste/2010/04/27\\\" xmlns:met1=\\\"http://www.vn.fi/skeemat/metatietoelementit/2010/04/27\\\" xmlns:org=\\\"http://www.vn.fi/skeemat/organisaatiokooste/2010/02/15\\\" xmlns:org1=\\\"http://www.vn.fi/skeemat/organisaatioelementit/2010/02/15\\\" xmlns:sii=\\\"http://www.eduskunta.fi/skeemat/siirtokooste/2011/05/17\\\" xmlns:sii1=\\\"http://www.eduskunta.fi/skeemat/siirtoelementit/2011/05/17\\\" xmlns:sis=\\\"http://www.vn.fi/skeemat/sisaltokooste/2010/04/27\\\" xmlns:sis1=\\\"http://www.vn.fi/skeemat/sisaltoelementit/2010/04/27\\\" xmlns:xsi=\\\"http://www.w3.org/2001/XMLSchema-instance\\\" met1:asiakirjatyyppiNimi=\\\"Betänkande\\\" met1:eduskuntaTunnus=\\\"AjUB 14/2016 rd\\\" met1:identifiointiTunnus=\\\"{E9393B23-F627-C5A0-8568-62F2A4600000}\\\" met1:kieliKoodi=\\\"sv\\\" met1:laadintaPvm=\\\"2016-12-08\\\" met1:muuTunnus=\\\"EDK-2016-AK-97710\\\" met1:paatehtavaKoodi=\\\"00 01 00 00 00 Lain säätäminen\\\"><asi:IdentifiointiOsa><met1:AsiakirjatyyppiNimi>Betänkande</met1:AsiakirjatyyppiNimi><asi:EduskuntaTunniste><met1:AsiakirjatyyppiKoodi>AjUB</met1:AsiakirjatyyppiKoodi><asi1:AsiakirjaNroTeksti>14</asi1:AsiakirjaNroTeksti><asi1:ValtiopaivavuosiTeksti>2016</asi1:ValtiopaivavuosiTeksti></asi:EduskuntaTunniste><asi:Vireilletulo><met1:EduskuntaTunnus>HE 197/2016 vp</met1:EduskuntaTunnus></asi:Vireilletulo><met:Toimija met1:rooliKoodi=\\\"Laatija\\\"><met1:YhteisoTeksti>työelämä- ja tasa-arvovaliokunta</met1:YhteisoTeksti></met:Toimija><met1:LaadintaPvmTeksti>08.12.2016</met1:LaadintaPvmTeksti><met:Nimeke met1:vaihtoehtoinenNimekeTeksti=\\\"\\\"><met1:NimekeTeksti>Regeringens proposition till riksdagen med förslag till lag om ändring av lagen om arbetstiden på fartyg i inrikesfart</met1:NimekeTeksti></met:Nimeke></asi:IdentifiointiOsa><sii:EsitysmuotoViite met1:muuTunnus=\\\"{E9393B23-F627-C5A0-8568-62F2A4600000}\\\"/><met:Aihe><met1:AiheTeksti>työaika</met1:AiheTeksti></met:Aihe><met:Aihe><met1:AiheTeksti>sisävesiliikenne</met1:AiheTeksti></met:Aihe><met:Aihe><met1:AiheTeksti>direktiivit</met1:AiheTeksti></met:Aihe><met:Aihe><met1:AiheTeksti>ylityö</met1:AiheTeksti></met:Aihe><met:Aihe><met1:AiheTeksti>vapaa-aika</met1:AiheTeksti></met:Aihe></jme:JulkaisuMetatieto></ns11:SiirtoMetatieto><SiirtoAsiakirja xmlns=\\\"http://www.eduskunta.fi/skeemat/siirtokooste/2011/05/17\\\"><RakenneAsiakirja><vml:Mietinto xmlns:asi=\\\"http://www.vn.fi/skeemat/asiakirjakooste/2010/04/27\\\" xmlns:asi1=\\\"http://www.vn.fi/skeemat/asiakirjaelementit/2010/04/27\\\" xmlns:fra=\\\"http://www.eduskunta.fi/skeemat/fraasikooste/2011/01/04\\\" xmlns:fra1=\\\"http://www.eduskunta.fi/skeemat/fraasielementit/2011/01/04\\\" xmlns:met=\\\"http://www.vn.fi/skeemat/metatietokooste/2010/04/27\\\" xmlns:met1=\\\"http://www.vn.fi/skeemat/metatietoelementit/2010/04/27\\\" xmlns:mix=\\\"http://www.loc.gov/mix/v20\\\" xmlns:narc=\\\"http://www.arkisto.fi/skeemat/sahke2/2011/01/31_vnk\\\" xmlns:org=\\\"http://www.vn.fi/skeemat/organisaatiokooste/2010/02/15\\\" xmlns:org1=\\\"http://www.vn.fi/skeemat/organisaatioelementit/2010/02/15\\\" xmlns:saa=\\\"http://www.vn.fi/skeemat/saadoskooste/2010/04/27\\\" xmlns:saa1=\\\"http://www.vn.fi/skeemat/saadoselementit/2010/04/27\\\" xmlns:sis=\\\"http://www.vn.fi/skeemat/sisaltokooste/2010/04/27\\\" xmlns:sis1=\\\"http://www.vn.fi/skeemat/sisaltoelementit/2010/04/27\\\" xmlns:tau=\\\"http://www.vn.fi/skeemat/taulukkokooste/2010/04/27\\\" xmlns:vas=\\\"http://www.eduskunta.fi/skeemat/vastalause/2011/01/04\\\" xmlns:vml=\\\"http://www.eduskunta.fi/skeemat/mietinto/2011/01/04\\\" xmlns:vsk=\\\"http://www.eduskunta.fi/skeemat/vaskikooste/2011/01/04\\\" xmlns:vsk1=\\\"http://www.eduskunta.fi/skeemat/vaskielementit/2011/01/04\\\" xmlns:xsi=\\\"http://www.w3.org/2001/XMLSchema-instance\\\" met1:asiakirjatyyppiNimi=\\\"Betänkande\\\" met1:eduskuntaTunnus=\\\"AjUB 14/2016 rd\\\" met1:identifiointiTunnus=\\\"ed5ea7fb-29cd-42ed-b218-d49fe54f3054\\\" met1:kieliKoodi=\\\"sv\\\" met1:laadintaPvm=\\\"2018-04-23\\\" met1:muuTunnus=\\\"ed5ea7fb-29cd-42ed-b218-d49fe54f3054\\\" met1:rakennemaarittelyNimi=\\\"valiokunnanmietinto.xsd\\\" met1:tilaKoodi=\\\"Klart\\\" met1:versioTeksti=\\\"5.0\\\"><asi:IdentifiointiOsa><met1:AsiakirjatyyppiNimi>Betänkande</met1:AsiakirjatyyppiNimi><asi:EduskuntaTunniste><met1:AsiakirjatyyppiKoodi>AjUB</met1:AsiakirjatyyppiKoodi><asi1:AsiakirjaNroTeksti>14</asi1:AsiakirjaNroTeksti><asi1:ValtiopaivavuosiTeksti>2016 rd</asi1:ValtiopaivavuosiTeksti></asi:EduskuntaTunniste><asi:Vireilletulo><met1:EduskuntaTunnus>RP 197/2016 rd</met1:EduskuntaTunnus></asi:Vireilletulo><met:Toimija met1:rooliKoodi=\\\"Laatija\\\"><met1:YhteisoTeksti>Arbetslivs- och jämställdhetsutskottet</met1:YhteisoTeksti></met:Toimija><met:Nimeke><met1:NimekeTeksti>Regeringens proposition till riksdagen med förslag till lag om ändring av lagen om arbetstiden på fartyg i inrikesfart</met1:NimekeTeksti></met:Nimeke></asi:IdentifiointiOsa><vsk:AsiaKuvaus><sis1:OtsikkoTeksti>INLEDNING</sis1:OtsikkoTeksti><vsk:VireilletuloAsia><sis1:LihavaKursiiviOtsikkoTeksti>Remiss</sis1:LihavaKursiiviOtsikkoTeksti><sis:KappaleKooste>Regeringens proposition till riksdagen med förslag till lag om ändring av lagen om arbetstiden på fartyg i inrikesfart (<sis1:AsiakirjaViiteTunnus>RP 197/2016 rd</sis1:AsiakirjaViiteTunnus>): Ärendet har remitterats till arbetslivs- och jämställdhetsutskottet för betänkande.</sis:KappaleKooste></vsk:VireilletuloAsia><vsk:AsiantuntijatToimenpide><sis1:LihavaKursiiviOtsikkoTeksti>Sakkunniga</sis1:LihavaKursiiviOtsikkoTeksti><sis:KappaleKooste>Utskottet har hört</sis:KappaleKooste><vsk:Asiantuntija><org:Henkilo><org1:AsemaTeksti>äldre regeringssekreterare</org1:AsemaTeksti><org1:EtuNimi>Nico</org1:EtuNimi><org1:SukuNimi>Steiner</org1:SukuNimi></org:Henkilo><met1:YhteisoTeksti>arbets- och näringsministeriet</met1:YhteisoTeksti></vsk:Asiantuntija><vsk:Asiantuntija><org:Henkilo><org1:AsemaTeksti>verkställande direktör</org1:AsemaTeksti><org1:EtuNimi>Stefan</org1:EtuNimi><org1:SukuNimi>Jensen</org1:SukuNimi></org:Henkilo><met1:YhteisoTeksti>Passagerarfartygsföreningen i Finland rf</met1:YhteisoTeksti></vsk:Asiantuntija><vsk:Asiantuntija><org:Henkilo><org1:AsemaTeksti>sakkunnigmedlem</org1:AsemaTeksti><org1:EtuNimi>Jorma</org1:EtuNimi><org1:SukuNimi>Ihalainen</org1:SukuNimi></org:Henkilo><met1:YhteisoTeksti>Passagerarfartygsföreningen i Finland rf.</met1:YhteisoTeksti></vsk:Asiantuntija></vsk:AsiantuntijatToimenpide><vsk:AsiantuntijatToimenpide><sis:KappaleKooste>Skriftligt yttrande har lämnats av</sis:KappaleKooste><vsk:Asiantuntija><met1:YhteisoTeksti>social- och hälsovårdsministeriet</met1:YhteisoTeksti></vsk:Asiantuntija><vsk:Asiantuntija><met1:YhteisoTeksti>Regionförvaltningsverket i Sydvästra Finland</met1:YhteisoTeksti></vsk:Asiantuntija><vsk:Asiantuntija><met1:YhteisoTeksti>Finlands näringsliv rf</met1:YhteisoTeksti></vsk:Asiantuntija><vsk:Asiantuntija><met1:YhteisoTeksti>Finlands Maskinbefälsförbund ry</met1:YhteisoTeksti></vsk:Asiantuntija><vsk:Asiantuntija><met1:YhteisoTeksti>Finlands Skeppsbefälsförbund rf</met1:YhteisoTeksti></vsk:Asiantuntija><vsk:Asiantuntija><met1:YhteisoTeksti>Finlands Sjömans-Union FSU rf </met1:YhteisoTeksti></vsk:Asiantuntija><vsk:Asiantuntija><met1:YhteisoTeksti>Rederierna i Finland rf</met1:YhteisoTeksti></vsk:Asiantuntija><vsk:Asiantuntija><met1:YhteisoTeksti>Företagarna i Finland rf.</met1:YhteisoTeksti></vsk:Asiantuntija></vsk:AsiantuntijatToimenpide></vsk:AsiaKuvaus><asi:SisaltoKuvaus><sis1:OtsikkoTeksti>PROPOSITIONEN</sis1:OtsikkoTeksti><sis:KappaleKooste>I propositionen föreslås det att lagen om arbetstiden på fartyg i inrikesfart ändras på det sätt som genomförandet av arbetstidsdirektivet för inlandssjöfarten förutsätter.</sis:KappaleKooste><sis:KappaleKooste>Ändringarna gäller huvudsakligen fartygstrafik på inre vattenvägar. En arbetsgivare får inte låta utföra mer 384 timmar övertidsarbete per år. Den genomsnittliga maximala tiden för övertidsarbete i ett anställningsförhållande för viss tid som understiger ett år är åtta timmar per vecka. Under en sjudagarsperiod ska arbetstagaren ges en vilotid på minst 84 timmar. En arbetstagare vars arbets- och fritider inte bestäms enligt ett avlösningssystem ska ges en extra veckovila på 24 timmar, om arbetstagaren arbetat sex dagar i veckan under fem veckor. Det maximala antalet på varandra följande arbetsdagar baserade på ett avlösningssystem är 31.</sis:KappaleKooste><sis:KappaleKooste>Lagen avses träda i kraft den 1 januari 2017.</sis:KappaleKooste></asi:SisaltoKuvaus><asi:PerusteluOsa asi1:perusteluLuokitusKoodi=\\\"YleisetPerustelut\\\"><sis1:OtsikkoTeksti>UTSKOTTETS ÖVERVÄGANDEN</sis1:OtsikkoTeksti><asi:PerusteluLuku><sis1:LihavaKursiiviOtsikkoTeksti>Allmänt </sis1:LihavaKursiiviOtsikkoTeksti><sis:KappaleKooste>De europeiska arbetsmarknadsparterna inom sektorn för inlandssjöfart ingick ett avtal 2012. Det innehåller bestämmelser om arbetstidens förläggning i inlandssjöfarten. Parterna ansåg att varken det allmänna arbetstidsdirektivet (direktiv 2003/88/EG), som tillämpas på inlandsvatten, eller vilotidsdirektivet (direktiv 1999/63/EG), som gäller sjömännens arbetstider, beaktar de särskilda arbets- och levnadsförhållandena inom inlandssjöfarten. </sis:KappaleKooste><sis:KappaleKooste>Direktiv 2014/112/EU om genomförande av det europeiska avtal om arbetstidens förläggning i vissa avseenden vid transporter på inre vattenvägar som ingåtts av arbetsmarknadsparterna (arbetstidsdirektivet för inlandssjöfarten) antogs i december 2014. Direktivet består av två delar, det egentliga direktivet och det bifogade avtalet som innehåller bestämmelserna om arbetstid inom inlandssjöfarten. Direktivet och det bifogade avtalet gäller endast kommersiell inlandssjöfart. Inrikesfart på havsområden faller således utanför direktivets tillämpningsområde. Direktivet ska genomföras i medlemsstaterna före utgången av 2016.</sis:KappaleKooste><sis:KappaleKooste>Regeringen föreslår att de ändringar som direktivet kräver ska genomföras genom ändringar i lagen om arbetstiden på fartyg i inrikesfart (<sis1:SaadoskokoelmaViiteTunnus>248/1982</sis1:SaadoskokoelmaViiteTunnus>), nedan kallad arbetstidslagen för inrikesfart. Avtalet innehåller också bestämmelser om företagshälsovård och arbetarskydd, men till denna del anses den finländska lagstiftningen uppfylla avtalskraven. Utskottet tillstyrker utifrån inkommen utredning lagförslaget utan ändringar, men med följande kommentarer. </sis:KappaleKooste><sis1:LihavaKursiiviOtsikkoTeksti>Högsta tillåtna arbetstid och arbetstidens förläggning </sis1:LihavaKursiiviOtsikkoTeksti><sis:KappaleKooste>Skillnaderna mellan arbetstidslagen för inrikesfart och bestämmelserna i det bifogade avtalet till arbetstidsdirektivet för inlandssjöfarten gäller regleringen av den högsta tillåtna arbetstiden och arbetstagarnas vilotider. Avtalet innehåller en bestämmelse om den genomsnittliga högsta tillåtna arbetstiden per vecka (48 timmar), något som saknas i arbetstidslagen för inrikesfart. Lagen begränsar arbetstidens längd genom bestämmelserna om ordinarie arbetstid, övertidsarbete per dygn och övertidsarbete per vecka. </sis:KappaleKooste><sis:KappaleKooste>Enligt 5 § 2 mom. i arbetstidslagen för inrikesfart ska den ordinarie arbetstiden ordnas så att den blir sammanhängande och förläggas till tiden mellan klockan 7 och klockan 17, om arbetstagarna inte bor ombord på fartyget då det är i användning. Om arbetstagarna bor ombord kan arbetstiden ordnas i regelbundet skiftande vakter på högst fyra eller sex timmar. Det går att avtala om annan förläggning av arbetstiden genom kollektivavtal. </sis:KappaleKooste><sis:KappaleKooste>Vanligen bor de som arbetar på fartyg i inlandssjöfart i Finland inte ombord, och därför ska arbetstiden på de fartygen enligt arbetstidslagen för inrikesfart ordnas så att den blir sammanhängande på det sätt som sades. Enligt det allmänt bindande kollektivavtalet för passagerarfartyg i inrikestrafiken har den ordinarie arbetstiden med avvikelse från lagen kunnat placeras i vakter. I praktiken har arbetsdagarna varit långa till följd av den korta sommarsäsongen och den i lagen högsta tillåtna övertiden vid skiftarbete, och de anställdas inkomster har till stor del bestått av övertidsersättning. </sis:KappaleKooste><sis:KappaleKooste>Enligt punkt 3 i det bifogade avtalet till arbetstidsdirektivet för inlandssjöfarten ska fastställandet av arbetstiden grundas på en åtta timmars arbetsdag. Den genomsnittliga veckoarbetstiden får inte överstiga 48 timmar under en beräkningsperiod på tolv månader. Den högsta tillåtna arbetstiden inbegriper övertid. Om anställningstiden understiger ett år beräknas den högsta tillåtna arbetstiden i förhållande till anställningens längd. Enligt 4 § i arbetstidslagen för inrikesfart är arbetstiden högst 8 timmar om dygnet och högst 40 timmar i veckan. Den högsta tillåtna tiden för övertidsarbete per dygn är 16 timmar i veckan och den högsta tillåtna tiden för övertidsarbete per vecka är å sin sida 16 timmar under två veckor. Om arbetet har indelats i två vakter är den högsta tillåtna tiden för övertidsarbete per dygn 28 timmar i veckan och utöver det, med arbetstagarens samtycke, högst 7 timmar i veckan.</sis:KappaleKooste><sis:KappaleKooste>Enligt förslaget ska den ändring som direktivavtalet kräver i fråga om den högsta tillåtna arbetstiden för anställda inom inlandssjöfarten genomföras genom en ny 9 a § som fogas till arbetstidslagen för inrikesfart. Enligt den paragrafen får övertidsarbetet för en arbetstagare uppgå till högst 384 timmar per år i inlandssjöfart. Om arbetstagaren arbetar i ett anställningsförhållande för viss tid som understiger ett år, får den genomsnittliga maximala tiden för övertidsarbete vara högst åtta timmar per vecka. Det innebär att större begränsningar kommer att gälla för övertidsarbete i fortsättningen.</sis:KappaleKooste><sis:KappaleKooste>Enligt propositionen rådde det i samband med att genomförandet av direktivet förbereddes en viss oro över hur den högsta tillåtna arbetstiden enligt direktivet och 5 § 2 mom. i arbetstidslagen för inrikesfart skulle vara förenliga. De anställda bor inte ombord på passagerarfartyg och därför måste arbetsgivaren enligt lagen oberoende av behovet av arbetskraft förlägga arbetstagarens hela ordinarie arbetstid mellan klockan 7 och 17 och låta utföra det kvällsarbete som behövs i form av övertidsarbete. Begränsningarna i fråga om övertid innebär att arbetsgivaren i fortsättningen behöver indela arbetstiden i vakter på ett sätt som inte ger upphov till övertid.</sis:KappaleKooste><sis:KappaleKooste>Under beredningens gång övervägdes också ett alternativ där man slopar kraven på förläggning av den ordinarie arbetstiden och möjliggör att arbetet ordnas i vakter. Finlands Sjömans-Union FSU rf motsatte sig att arbetstiden får förläggas fritt eftersom det i nuläget är möjligt att genom kollektivavtal avvika från bestämmelserna, vilket också har gjorts. De lönesystem som baserar sig på gällande kollektivavtal stöder sig i stor utsträckning på ersättningar som betalas när arbetstiden förläggs på ett sätt som avviker från lagen och för övertidsarbete. De framförda ändringarna skulle enligt Sjömansunionen ha kunnat ha sänka arbetstagarnas totala lön, om inte lönesystemen skulle ha ändrats samtidigt.</sis:KappaleKooste><sis:KappaleKooste>Enligt utskottet bedömning har avtalet i stor utsträckning tagits fram med beaktande av förhållandena inom det syd- och centraleuropeiska området för inlandssjöfart. Vår inlandssjöfart kännetecknas av en kort tid med öppet vatten och en ännu kortare säsong för passagerarfartygen, dvs. sommarmånaderna. Enligt det som framfördes under utskottsutfrågningen utgörs 70—80 procent av passagerarfartygens omsättning av restaurangverksamhet. Utskottet konstaterar att bestämmelserna i avtalet lämpar sig dåligt för förhållandena inom inlandssjöfarten i Finland. </sis:KappaleKooste><sis:KappaleKooste>I sitt utlåtande om förslaget till arbetstidsdirektiv för inlandssjöfarten (<sis1:AsiakirjaViiteTunnus>AjUU 7/2014 rd</sis1:AsiakirjaViiteTunnus>) förutsatte utskottet att särdrag för vår inlandssjöfart och vår kollektivavtalspraxis beaktas när direktivet genomförs nationellt. Utskottet upprepar vad det sade tidigare och förutsätter att regeringen noga ger akt på hur de föreslagna bestämmelserna påverkar villkoren för företagen inom inlandssjöfarten och tryggandet av arbetstagarnas rättigheter enligt direktivet. Utskottet understryker att den höga beläggningsgraden på fartygen i inrikes trafik måste tryggas under den korta säsongen <sis1:KursiiviTeksti>(Utskottets förslag till uttalande)</sis1:KursiiviTeksti>.</sis:KappaleKooste></asi:PerusteluLuku></asi:PerusteluOsa><vsk:PaatosOsa><sis1:OtsikkoTeksti>FÖRSLAG TILL BESLUT</sis1:OtsikkoTeksti><vsk:PaatosToimenpide><asi1:JohdantoTeksti>Arbetslivs- och jämställdhetsutskottets förslag till beslut:</asi1:JohdantoTeksti><sis:SisennettyKappaleKooste><sis1:KursiiviTeksti>Riksdagen godkänner lagförslaget i proposition RP 197/2016 rd utan ändringar.</sis1:KursiiviTeksti></sis:SisennettyKappaleKooste><sis:SisennettyKappaleKooste><sis1:KursiiviTeksti>Riksdagen godkänner ett uttalande. </sis1:KursiiviTeksti><sis1:LihavaKursiiviTeksti>(Utskottets förslag till uttalande).</sis1:LihavaKursiiviTeksti></sis:SisennettyKappaleKooste></vsk:PaatosToimenpide></vsk:PaatosOsa><asi:LausumaKannanottoOsa><sis1:LihavaKursiiviOtsikkoTeksti>Utskottets förslag till uttalande</sis1:LihavaKursiiviOtsikkoTeksti><asi:LausumaKannanotto><sis1:LausumaKannanottoNro>1.</sis1:LausumaKannanottoNro><sis:SisennettyKappaleKooste><sis1:KursiiviTeksti>Riksdagen förutsätter att regeringen noga följer vilka effekter genomförandet av arbetstidsdirektivet för inlandssjöfarten får och att den vid behov vidtar åtgärder för att jämka samman företagens behov av arbetskraft och förläggningen av arbetstagarnas arbetstid. </sis1:KursiiviTeksti></sis:SisennettyKappaleKooste></asi:LausumaKannanotto></asi:LausumaKannanottoOsa><vsk:OsallistujaOsa><asi:PaivaysKooste asi1:allekirjoitusPvm=\\\"2016-12-08\\\">Helsingfors 8.12.2016</asi:PaivaysKooste><asi1:JohdantoTeksti>I den avgörande behandlingen deltog</asi1:JohdantoTeksti><met:Toimija met1:rooliKoodi=\\\"ordförande\\\"><asi1:TarkennusAsemaTeksti>ordförande</asi1:TarkennusAsemaTeksti><org:Henkilo met1:muuTunnus=\\\"451\\\"><org1:EtuNimi>Tarja</org1:EtuNimi><org1:SukuNimi>Filatov</org1:SukuNimi><org1:LisatietoTeksti>sd</org1:LisatietoTeksti></org:Henkilo></met:Toimija><met:Toimija met1:rooliKoodi=\\\"vice ordförande\\\"><asi1:TarkennusAsemaTeksti>vice ordförande</asi1:TarkennusAsemaTeksti><org:Henkilo met1:muuTunnus=\\\"930\\\"><org1:EtuNimi>Heli</org1:EtuNimi><org1:SukuNimi>Järvinen</org1:SukuNimi><org1:LisatietoTeksti>gröna</org1:LisatietoTeksti></org:Henkilo></met:Toimija><met:Toimija met1:rooliKoodi=\\\"medlem\\\"><asi1:TarkennusAsemaTeksti>medlem</asi1:TarkennusAsemaTeksti><org:Henkilo met1:muuTunnus=\\\"1322\\\"><org1:EtuNimi>Pertti</org1:EtuNimi><org1:SukuNimi>Hakanen</org1:SukuNimi><org1:LisatietoTeksti>cent</org1:LisatietoTeksti></org:Henkilo></met:Toimija><met:Toimija met1:rooliKoodi=\\\"medlem\\\"><asi1:TarkennusAsemaTeksti>medlem</asi1:TarkennusAsemaTeksti><org:Henkilo met1:muuTunnus=\\\"1107\\\"><org1:EtuNimi>Teuvo</org1:EtuNimi><org1:SukuNimi>Hakkarainen</org1:SukuNimi><org1:LisatietoTeksti>saf</org1:LisatietoTeksti></org:Henkilo></met:Toimija><met:Toimija met1:rooliKoodi=\\\"medlem\\\"><asi1:TarkennusAsemaTeksti>medlem</asi1:TarkennusAsemaTeksti><org:Henkilo met1:muuTunnus=\\\"938\\\"><org1:EtuNimi>Hannakaisa</org1:EtuNimi><org1:SukuNimi>Heikkinen</org1:SukuNimi><org1:LisatietoTeksti>cent (delvis)</org1:LisatietoTeksti></org:Henkilo></met:Toimija><met:Toimija met1:rooliKoodi=\\\"medlem\\\"><asi1:TarkennusAsemaTeksti>medlem</asi1:TarkennusAsemaTeksti><org:Henkilo met1:muuTunnus=\\\"1119\\\"><org1:EtuNimi>Reijo</org1:EtuNimi><org1:SukuNimi>Hongisto</org1:SukuNimi><org1:LisatietoTeksti>saf (delvis)</org1:LisatietoTeksti></org:Henkilo></met:Toimija><met:Toimija met1:rooliKoodi=\\\"medlem\\\"><asi1:TarkennusAsemaTeksti>medlem</asi1:TarkennusAsemaTeksti><org:Henkilo met1:muuTunnus=\\\"573\\\"><org1:EtuNimi>Niilo</org1:EtuNimi><org1:SukuNimi>Keränen</org1:SukuNimi><org1:LisatietoTeksti>cent</org1:LisatietoTeksti></org:Henkilo></met:Toimija><met:Toimija met1:rooliKoodi=\\\"medlem\\\"><asi1:TarkennusAsemaTeksti>medlem</asi1:TarkennusAsemaTeksti><org:Henkilo met1:muuTunnus=\\\"1155\\\"><org1:EtuNimi>Anna</org1:EtuNimi><org1:SukuNimi>Kontula</org1:SukuNimi><org1:LisatietoTeksti>vänst</org1:LisatietoTeksti></org:Henkilo></met:Toimija><met:Toimija met1:rooliKoodi=\\\"medlem\\\"><asi1:TarkennusAsemaTeksti>medlem</asi1:TarkennusAsemaTeksti><org:Henkilo met1:muuTunnus=\\\"1342\\\"><org1:EtuNimi>Jaana</org1:EtuNimi><org1:SukuNimi>Laitinen-Pesola</org1:SukuNimi><org1:LisatietoTeksti>saml (delvis)</org1:LisatietoTeksti></org:Henkilo></met:Toimija><met:Toimija met1:rooliKoodi=\\\"medlem\\\"><asi1:TarkennusAsemaTeksti>medlem</asi1:TarkennusAsemaTeksti><org:Henkilo met1:muuTunnus=\\\"1349\\\"><org1:EtuNimi>Leena</org1:EtuNimi><org1:SukuNimi>Meri</org1:SukuNimi><org1:LisatietoTeksti>saf (delvis)</org1:LisatietoTeksti></org:Henkilo></met:Toimija><met:Toimija met1:rooliKoodi=\\\"medlem\\\"><asi1:TarkennusAsemaTeksti>medlem</asi1:TarkennusAsemaTeksti><org:Henkilo met1:muuTunnus=\\\"1087\\\"><org1:EtuNimi>Merja</org1:EtuNimi><org1:SukuNimi>Mäkisalo-Ropponen</org1:SukuNimi><org1:LisatietoTeksti>sd (delvis)</org1:LisatietoTeksti></org:Henkilo></met:Toimija><met:Toimija met1:rooliKoodi=\\\"medlem\\\"><asi1:TarkennusAsemaTeksti>medlem</asi1:TarkennusAsemaTeksti><org:Henkilo met1:muuTunnus=\\\"1302\\\"><org1:EtuNimi>Ilmari</org1:EtuNimi><org1:SukuNimi>Nurminen</org1:SukuNimi><org1:LisatietoTeksti>sd</org1:LisatietoTeksti></org:Henkilo></met:Toimija><met:Toimija met1:rooliKoodi=\\\"medlem\\\"><asi1:TarkennusAsemaTeksti>medlem</asi1:TarkennusAsemaTeksti><org:Henkilo met1:muuTunnus=\\\"1374\\\"><org1:EtuNimi>Veronica</org1:EtuNimi><org1:SukuNimi>Rehn-Kivi</org1:SukuNimi><org1:LisatietoTeksti>sv</org1:LisatietoTeksti></org:Henkilo></met:Toimija><met:Toimija met1:rooliKoodi=\\\"medlem\\\"><asi1:TarkennusAsemaTeksti>medlem</asi1:TarkennusAsemaTeksti><org:Henkilo met1:muuTunnus=\\\"1111\\\"><org1:EtuNimi>Eero</org1:EtuNimi><org1:SukuNimi>Suutari</org1:SukuNimi><org1:LisatietoTeksti>saml</org1:LisatietoTeksti></org:Henkilo></met:Toimija><met:Toimija met1:rooliKoodi=\\\"medlem\\\"><asi1:TarkennusAsemaTeksti>medlem</asi1:TarkennusAsemaTeksti><org:Henkilo met1:muuTunnus=\\\"1321\\\"><org1:EtuNimi>Martti</org1:EtuNimi><org1:SukuNimi>Talja</org1:SukuNimi><org1:LisatietoTeksti>cent (delvis)</org1:LisatietoTeksti></org:Henkilo></met:Toimija><met:Toimija met1:rooliKoodi=\\\"medlem\\\"><asi1:TarkennusAsemaTeksti>medlem</asi1:TarkennusAsemaTeksti><org:Henkilo met1:muuTunnus=\\\"1330\\\"><org1:EtuNimi>Juhana</org1:EtuNimi><org1:SukuNimi>Vartiainen</org1:SukuNimi><org1:LisatietoTeksti>saml</org1:LisatietoTeksti></org:Henkilo></met:Toimija><met:Toimija met1:rooliKoodi=\\\"medlem\\\"><asi1:TarkennusAsemaTeksti>medlem</asi1:TarkennusAsemaTeksti><org:Henkilo met1:muuTunnus=\\\"913\\\"><org1:EtuNimi>Eerikki</org1:EtuNimi><org1:SukuNimi>Viljanen</org1:SukuNimi><org1:LisatietoTeksti>cent (delvis)</org1:LisatietoTeksti></org:Henkilo></met:Toimija><met:Toimija><asi1:TarkennusAsemaTeksti>ersättare</asi1:TarkennusAsemaTeksti><org:Henkilo met1:muuTunnus=\\\"1343\\\"><org1:EtuNimi>Antero</org1:EtuNimi><org1:SukuNimi>Laukkanen</org1:SukuNimi><org1:LisatietoTeksti>kd (delvis).</org1:LisatietoTeksti></org:Henkilo></met:Toimija><asi1:JohdantoTeksti>Sekreterare var</asi1:JohdantoTeksti><met:Toimija met1:rooliKoodi=\\\"utskottsråd\\\"><asi1:TarkennusAsemaTeksti>utskottsråd</asi1:TarkennusAsemaTeksti><org:Henkilo><org1:EtuNimi>Marjaana</org1:EtuNimi><org1:SukuNimi>Kinnunen.</org1:SukuNimi><org1:LisatietoTeksti/></org:Henkilo></met:Toimija></vsk:OsallistujaOsa></vml:Mietinto></RakenneAsiakirja></SiirtoAsiakirja><SiirtoTiedosto xmlns=\\\"http://www.eduskunta.fi/skeemat/siirtokooste/2011/05/17\\\"><Document xmlns=\\\"http://www.arkisto.fi/skeemat/sahke2/2011/01/31_vnk\\\"><NativeId>{E9393B23-F627-C5A0-8568-62F2A4600000}</NativeId><UseType>Julkaisu</UseType><File><Name>E9393B23-F627-C5A0-8568-62F2A4600000.pdf</Name><Path>sftp://intpurnukka.eduskunta.fi:22/home/vaskijul/liitteet/tojulkvp/E9393B23-F627-C5A0-8568-62F2A4600000.pdf</Path></File><Format><Name>application/pdf</Name><Version/></Format><HashAlgorithm>MD5</HashAlgorithm><HashValue>28b3346801d0dfe24c49ce236ca34431</HashValue></Document></SiirtoTiedosto></ns11:Siirto>\"\n",
      "[1] \"<ns11:Siirto xmlns:ns11=\\\"http://www.eduskunta.fi/skeemat/siirto/2011/09/07\\\" xmlns:ns=\\\"http://www.eduskunta.fi/skeemat/siirto/2011/09/07\\\" xmlns:soapenv=\\\"http://schemas.xmlsoap.org/soap/envelope/\\\"><ns:Sanomavalitys xmlns=\\\"http://www.eduskunta.fi/skeemat/siirtokooste/2011/05/17\\\" xmlns:ns=\\\"http://www.eduskunta.fi/skeemat/siirtokooste/2011/05/17\\\"><ns4:SanomatyyppiNimi xmlns:ns=\\\"http://www.eduskunta.fi/skeemat/siirtoelementit/2011/05/17\\\" xmlns:ns4=\\\"http://www.eduskunta.fi/skeemat/siirtoelementit/2011/05/17\\\">VASKI_JULKVP_Agenda2_sv</ns4:SanomatyyppiNimi><ns4:SanomaTunnus xmlns:ns=\\\"http://www.eduskunta.fi/skeemat/siirtoelementit/2011/05/17\\\" xmlns:ns4=\\\"http://www.eduskunta.fi/skeemat/siirtoelementit/2011/05/17\\\">Vaski_VASKI_JULKVP_Agenda2_sv_07 helmi 2017_11:05:22 EET</ns4:SanomaTunnus><ns4:LuontiHetki xmlns:ns=\\\"http://www.eduskunta.fi/skeemat/siirtoelementit/2011/05/17\\\" xmlns:ns4=\\\"http://www.eduskunta.fi/skeemat/siirtoelementit/2011/05/17\\\">2017-02-07T11:05:22.692+02:00</ns4:LuontiHetki><ns4:SiirtoKoodi xmlns:ns=\\\"http://www.eduskunta.fi/skeemat/siirtoelementit/2011/05/17\\\" xmlns:ns4=\\\"http://www.eduskunta.fi/skeemat/siirtoelementit/2011/05/17\\\">paivitys</ns4:SiirtoKoodi><ns:Toimija xmlns=\\\"http://www.vn.fi/skeemat/metatietokooste/2010/04/27\\\" xmlns:ns=\\\"http://www.vn.fi/skeemat/metatietokooste/2010/04/27\\\" xmlns:s769=\\\"http://www.vn.fi/skeemat/metatietoelementit/2010/04/27\\\" s769:rooliKoodi=\\\"lahettaja\\\"><ns:YhteisoTeksti xmlns:ns=\\\"http://www.vn.fi/skeemat/metatietoelementit/2010/04/27\\\">Eduskunta</ns:YhteisoTeksti></ns:Toimija><ns:Toimija xmlns=\\\"http://www.vn.fi/skeemat/metatietokooste/2010/04/27\\\" xmlns:ns=\\\"http://www.vn.fi/skeemat/metatietokooste/2010/04/27\\\" xmlns:s770=\\\"http://www.vn.fi/skeemat/metatietoelementit/2010/04/27\\\" s770:rooliKoodi=\\\"vastaanottaja\\\"><ns:YhteisoTeksti xmlns:ns=\\\"http://www.vn.fi/skeemat/metatietoelementit/2010/04/27\\\">Eduskunta</ns:YhteisoTeksti></ns:Toimija></ns:Sanomavalitys><ns11:SiirtoMetatieto><ns:JulkaisuMetatieto xmlns:asi=\\\"http://www.vn.fi/skeemat/asiakirjakooste/2010/04/27\\\" xmlns:asi1=\\\"http://www.vn.fi/skeemat/asiakirjaelementit/2010/04/27\\\" xmlns:jme=\\\"http://www.eduskunta.fi/skeemat/julkaisusiirtokooste/2011/12/20\\\" xmlns:met=\\\"http://www.vn.fi/skeemat/metatietokooste/2010/04/27\\\" xmlns:met1=\\\"http://www.vn.fi/skeemat/metatietoelementit/2010/04/27\\\" xmlns:ns=\\\"http://www.eduskunta.fi/skeemat/julkaisusiirtokooste/2011/12/20\\\" xmlns:org=\\\"http://www.vn.fi/skeemat/organisaatiokooste/2010/02/15\\\" xmlns:org1=\\\"http://www.vn.fi/skeemat/organisaatioelementit/2010/02/15\\\" xmlns:sii=\\\"http://www.eduskunta.fi/skeemat/siirtokooste/2011/05/17\\\" xmlns:sii1=\\\"http://www.eduskunta.fi/skeemat/siirtoelementit/2011/05/17\\\" xmlns:sis=\\\"http://www.vn.fi/skeemat/sisaltokooste/2010/04/27\\\" xmlns:sis1=\\\"http://www.vn.fi/skeemat/sisaltoelementit/2010/04/27\\\" xmlns:xsi=\\\"http://www.w3.org/2001/XMLSchema-instance\\\" met1:asiakirjatyyppiNimi=\\\"Föredragningslista\\\" met1:eduskuntaTunnus=\\\"AjUD 1/2017 rd\\\" met1:identifiointiTunnus=\\\"{5598A518-DFF8-C4DF-8B32-5A17D1F00000}\\\" met1:kieliKoodi=\\\"sv\\\" met1:laadintaPvm=\\\"2017-02-07\\\" met1:muuTunnus=\\\"EDK-2016-AK-98575\\\" met1:paatehtavaKoodi=\\\"00 00 03 Poliittinen ohjaus\\\"><ns:IdentifiointiOsa xmlns:ns=\\\"http://www.vn.fi/skeemat/asiakirjakooste/2010/04/27\\\"><ns:AsiakirjatyyppiNimi xmlns:ns=\\\"http://www.vn.fi/skeemat/metatietoelementit/2010/04/27\\\">Föredragningslista</ns:AsiakirjatyyppiNimi><ns:EduskuntaTunniste><ns:AsiakirjatyyppiKoodi xmlns:ns=\\\"http://www.vn.fi/skeemat/metatietoelementit/2010/04/27\\\">AjUD</ns:AsiakirjatyyppiKoodi><ns:AsiakirjaNroTeksti xmlns:ns=\\\"http://www.vn.fi/skeemat/asiakirjaelementit/2010/04/27\\\">1</ns:AsiakirjaNroTeksti><ns:ValtiopaivavuosiTeksti xmlns:ns=\\\"http://www.vn.fi/skeemat/asiakirjaelementit/2010/04/27\\\">2017</ns:ValtiopaivavuosiTeksti></ns:EduskuntaTunniste><ns:Toimija xmlns:ns=\\\"http://www.vn.fi/skeemat/metatietokooste/2010/04/27\\\" met1:rooliKoodi=\\\"Laatija\\\"><ns:YhteisoTeksti xmlns:ns=\\\"http://www.vn.fi/skeemat/metatietoelementit/2010/04/27\\\">työelämä- ja tasa-arvovaliokunta</ns:YhteisoTeksti></ns:Toimija><ns:LaadintaPvmTeksti xmlns:ns=\\\"http://www.vn.fi/skeemat/metatietoelementit/2010/04/27\\\">07.02.2017</ns:LaadintaPvmTeksti><ns:Nimeke xmlns:ns=\\\"http://www.vn.fi/skeemat/metatietokooste/2010/04/27\\\" met1:vaihtoehtoinenNimekeTeksti=\\\"\\\"><ns:NimekeTeksti xmlns:ns=\\\"http://www.vn.fi/skeemat/metatietoelementit/2010/04/27\\\">Tisdag 7.2.2017 kl. 12.15</ns:NimekeTeksti></ns:Nimeke></ns:IdentifiointiOsa></ns:JulkaisuMetatieto></ns11:SiirtoMetatieto><ns:SiirtoAsiakirja xmlns=\\\"http://www.eduskunta.fi/skeemat/siirtokooste/2011/05/17\\\" xmlns:ns=\\\"http://www.eduskunta.fi/skeemat/siirtokooste/2011/05/17\\\"><ns:RakenneAsiakirja><ptk:Esityslista xmlns:asi=\\\"http://www.vn.fi/skeemat/asiakirjakooste/2010/04/27\\\" xmlns:asi1=\\\"http://www.vn.fi/skeemat/asiakirjaelementit/2010/04/27\\\" xmlns:fra=\\\"http://www.eduskunta.fi/skeemat/fraasikooste/2011/01/04\\\" xmlns:fra1=\\\"http://www.eduskunta.fi/skeemat/fraasielementit/2011/01/04\\\" xmlns:met=\\\"http://www.vn.fi/skeemat/metatietokooste/2010/04/27\\\" xmlns:met1=\\\"http://www.vn.fi/skeemat/metatietoelementit/2010/04/27\\\" xmlns:org=\\\"http://www.vn.fi/skeemat/organisaatiokooste/2010/02/15\\\" xmlns:org1=\\\"http://www.vn.fi/skeemat/organisaatioelementit/2010/02/15\\\" xmlns:ptk=\\\"http://www.eduskunta.fi/skeemat/poytakirja/2011/01/28\\\" xmlns:sis=\\\"http://www.vn.fi/skeemat/sisaltokooste/2010/04/27\\\" xmlns:sis1=\\\"http://www.vn.fi/skeemat/sisaltoelementit/2010/04/27\\\" xmlns:vsk=\\\"http://www.eduskunta.fi/skeemat/vaskikooste/2011/01/04\\\" xmlns:vsk1=\\\"http://www.eduskunta.fi/skeemat/vaskielementit/2011/01/04\\\" xmlns:xsi=\\\"http://www.w3.org/2001/XMLSchema-instance\\\" met1:asiakirjatyyppiNimi=\\\"Föredragningslista\\\" met1:eduskuntaTunnus=\\\"AjUD 1/2017 rd\\\" met1:identifiointiTunnus=\\\"456783eb-4731-c5d3-b6b2-59b64bc00001\\\" met1:kieliKoodi=\\\"sv\\\" met1:laadintaPvm=\\\"2017-02-07\\\" met1:muuTunnus=\\\"456783eb-4731-c5d3-b6b2-59b64bc00001\\\" met1:rakennemaarittelyNimi=\\\"eduskunnanpoytakirja.xsd\\\" met1:tilaKoodi=\\\"Godkänts\\\" met1:versioTeksti=\\\"3.42\\\" vsk1:ennakkotietoTilaKoodi=\\\"\\\" vsk1:kokousAloitusHetki=\\\"2017-02-07T12:15:00\\\" vsk1:kokousLopetusHetki=\\\"2017-02-07T14:00:00\\\"><asi:IdentifiointiOsa><met1:AsiakirjatyyppiNimi>Föredragningslista</met1:AsiakirjatyyppiNimi><asi:EduskuntaTunniste><met1:AsiakirjatyyppiKoodi>AjUD</met1:AsiakirjatyyppiKoodi><asi1:AsiakirjaNroTeksti>1</asi1:AsiakirjaNroTeksti><asi1:ValtiopaivavuosiTeksti>2017 rd</asi1:ValtiopaivavuosiTeksti></asi:EduskuntaTunniste><met:Toimija met1:rooliKoodi=\\\"Utarbetat av\\\"><met1:YhteisoTeksti>Arbetslivs- och jämställdhetsutskottet</met1:YhteisoTeksti></met:Toimija><met:Nimeke><met1:NimekeTeksti>Tisdag 7.2.2017 kl. 12.15</met1:NimekeTeksti></met:Nimeke></asi:IdentifiointiOsa><vsk:MuuAsiakohta met1:muuTunnus=\\\"31320\\\" vsk1:kasittelyvaiheKoodi=\\\"KOKNHU\\\" vsk1:kohtaJNro=\\\"1\\\" vsk1:kohtatyyppiKoodi=\\\"Ärendepunkt\\\" vsk1:yleinenKasittelyvaiheKoodi=\\\"KOKOUS\\\"><vsk1:KohtaNumero>1</vsk1:KohtaNumero><sis1:OtsikkoTeksti>Namnupprop</sis1:OtsikkoTeksti></vsk:MuuAsiakohta><vsk:MuuAsiakohta met1:muuTunnus=\\\"31321\\\" vsk1:kasittelyvaiheKoodi=\\\"KOKPVA\\\" vsk1:kohtaJNro=\\\"2\\\" vsk1:kohtatyyppiKoodi=\\\"Ärendepunkt\\\" vsk1:yleinenKasittelyvaiheKoodi=\\\"KOKOUS\\\"><vsk1:KohtaNumero>2</vsk1:KohtaNumero><sis1:OtsikkoTeksti>Beslutförhet</sis1:OtsikkoTeksti></vsk:MuuAsiakohta><vsk:MuuAsiakohta met1:muuTunnus=\\\"35336\\\" vsk1:kasittelyvaiheKoodi=\\\"KOKMUU\\\" vsk1:kohtaJNro=\\\"3\\\" vsk1:kohtatyyppiKoodi=\\\"Ärendepunkt\\\" vsk1:yleinenKasittelyvaiheKoodi=\\\"KOKOUS\\\"><vsk1:KohtaNumero>3</vsk1:KohtaNumero><sis1:OtsikkoTeksti>Utskottets resor i våren 2017</sis1:OtsikkoTeksti><vsk:Toimenpide met1:muuTunnus=\\\"147003\\\" vsk1:fraasiTunnus=\\\"KE 94\\\"><sis:KappaleKooste>Beslutas om deltagare av Europa-resan 7.5.—10.5.2017.</sis:KappaleKooste></vsk:Toimenpide><vsk:Toimenpide met1:muuTunnus=\\\"147096\\\" vsk1:fraasiTunnus=\\\"KE 94\\\"><sis:KappaleKooste>FN:s kvinnokommission CSW i New York 13.—24.3.2017.</sis:KappaleKooste></vsk:Toimenpide><vsk:Toimenpide met1:muuTunnus=\\\"147097\\\" vsk1:fraasiTunnus=\\\"KE 94\\\"><sis:KappaleKooste>Utskottssammanträdet arrangerad av Europarlamentets utskott Kvinnors rättigheter och jämställdhet mellan kvinnor och män i Bryssel 8.—9.3.2017.</sis:KappaleKooste></vsk:Toimenpide></vsk:MuuAsiakohta><vsk:Asiakohta met1:eduskuntaTunnus=\\\"E 123/2016 rd\\\" met1:muuTunnus=\\\"33640\\\" vsk1:kasittelyvaiheKoodi=\\\"ILMEEU\\\" vsk1:kohtaJNro=\\\"4\\\" vsk1:kohtatyyppiKoodi=\\\"Ärendepunkt\\\" vsk1:yleinenKasittelyvaiheKoodi=\\\"VIREEU\\\"><vsk1:KohtaNumero>4</vsk1:KohtaNumero><vsk:KohtaNimeke><met1:NimekeTeksti>Statsrådets utredning: Statsrådets strategi för inflytande i EU</met1:NimekeTeksti></vsk:KohtaNimeke><vsk:KohtaAsia><met1:AsiakirjatyyppiNimi>Statsrådets E-utredning</met1:AsiakirjatyyppiNimi><met1:EduskuntaTunnus>E 123/2016 rd</met1:EduskuntaTunnus></vsk:KohtaAsia><vsk:Toimenpide met1:muuTunnus=\\\"142077\\\" vsk1:fraasiTunnus=\\\"AIE 2b1\\\"><sis:KappaleKooste>Ärendet har lämnats till arbetslivs- och jämställdhetsutskottet för eventuella åtgärder.</sis:KappaleKooste></vsk:Toimenpide><vsk:Toimenpide met1:muuTunnus=\\\"146482\\\" vsk1:fraasiTunnus=\\\"ATAE 2\\\"><sis:KappaleKooste>Plan för utfrågning av sakkunniga godkänns.</sis:KappaleKooste></vsk:Toimenpide></vsk:Asiakohta><vsk:Asiakohta met1:eduskuntaTunnus=\\\"E 129/2016 rd\\\" met1:muuTunnus=\\\"33641\\\" vsk1:kasittelyvaiheKoodi=\\\"ILMEEU\\\" vsk1:kohtaJNro=\\\"5\\\" vsk1:kohtatyyppiKoodi=\\\"Ärendepunkt\\\" vsk1:yleinenKasittelyvaiheKoodi=\\\"VIREEU\\\"><vsk1:KohtaNumero>5</vsk1:KohtaNumero><vsk:KohtaNimeke><met1:NimekeTeksti>Statsrådets utredning: Europarådets konvention om förebyggande och bekämpning av våld mot kvinnor och våld i hemmet (Istanbulkonventionen): undertecknande och ingående av konventionen på EU:s vägnar</met1:NimekeTeksti></vsk:KohtaNimeke><vsk:KohtaAsia><met1:AsiakirjatyyppiNimi>Statsrådets E-utredning</met1:AsiakirjatyyppiNimi><met1:EduskuntaTunnus>E 129/2016 rd</met1:EduskuntaTunnus></vsk:KohtaAsia><vsk:Toimenpide met1:muuTunnus=\\\"142078\\\" vsk1:fraasiTunnus=\\\"AIE 2b1\\\"><sis:KappaleKooste>Ärendet har lämnats till arbetslivs- och jämställdhetsutskottet för eventuella åtgärder.</sis:KappaleKooste></vsk:Toimenpide><vsk:AsiantuntijatToimenpide met1:muuTunnus=\\\"146212\\\" vsk1:fraasiTunnus=\\\"ATAE 3a\\\"><sis:KappaleKooste>Utskottet hör:</sis:KappaleKooste><vsk:Asiantuntija><org:Henkilo><org1:AsemaTeksti>lagstiftningssekreterare</org1:AsemaTeksti><org1:EtuNimi>Johanna</org1:EtuNimi><org1:SukuNimi>Lahti</org1:SukuNimi></org:Henkilo><met1:YhteisoTeksti>utrikesministeriet</met1:YhteisoTeksti><sis1:LiiteNimi>bilaga</sis1:LiiteNimi></vsk:Asiantuntija><sis:KappaleKooste>Utskottet har tillställts ett skriftligt yttrande:</sis:KappaleKooste><vsk:Asiantuntija><met1:YhteisoTeksti>social- och hälsovårdsministeriet</met1:YhteisoTeksti><sis1:LiiteNimi>bilaga</sis1:LiiteNimi></vsk:Asiantuntija></vsk:AsiantuntijatToimenpide><vsk:Toimenpide met1:muuTunnus=\\\"146215\\\" vsk1:fraasiTunnus=\\\"ATAE 6\\\"><sis:KappaleKooste>Beslut fattas om fortsatt behandling av ärendet.</sis:KappaleKooste></vsk:Toimenpide></vsk:Asiakohta><vsk:Asiakohta met1:eduskuntaTunnus=\\\"RP 257/2016 rd\\\" met1:muuTunnus=\\\"31731\\\" vsk1:kasittelyvaiheKoodi=\\\"ILMVK\\\" vsk1:kohtaJNro=\\\"6\\\" vsk1:kohtatyyppiKoodi=\\\"Ärendepunkt\\\" vsk1:yleinenKasittelyvaiheKoodi=\\\"VIRVK\\\"><vsk1:KohtaNumero>6</vsk1:KohtaNumero><vsk:KohtaNimeke><met1:NimekeTeksti>Regeringens proposition till riksdagen med förslag till lag om ändring av arbetsavtalslagen och till vissa lagar som har samband med den</met1:NimekeTeksti></vsk:KohtaNimeke><vsk:KohtaAsia><met1:AsiakirjatyyppiNimi>Regeringens proposition</met1:AsiakirjatyyppiNimi><met1:EduskuntaTunnus>RP 257/2016 rd</met1:EduskuntaTunnus></vsk:KohtaAsia><vsk:Toimenpide met1:muuTunnus=\\\"137380\\\" vsk1:fraasiTunnus=\\\"AIE 1a\\\"><sis:KappaleKooste>Ärendet har inkommit till arbetslivs- och jämställdhetsutskottet för betänkande.</sis:KappaleKooste></vsk:Toimenpide><vsk:AsiantuntijatToimenpide met1:muuTunnus=\\\"146492\\\" vsk1:fraasiTunnus=\\\"ATE 3a\\\"><sis:KappaleKooste>Utskottet hör:</sis:KappaleKooste><vsk:Asiantuntija><org:Henkilo><org1:AsemaTeksti>regeringsråd</org1:AsemaTeksti><org1:EtuNimi>Susanna</org1:EtuNimi><org1:SukuNimi>Siitonen</org1:SukuNimi></org:Henkilo><met1:YhteisoTeksti>arbets- och näringsministeriet</met1:YhteisoTeksti><sis1:LiiteNimi>bilaga</sis1:LiiteNimi></vsk:Asiantuntija></vsk:AsiantuntijatToimenpide><vsk:Toimenpide met1:muuTunnus=\\\"146495\\\" vsk1:fraasiTunnus=\\\"ATE 2\\\"><sis:KappaleKooste>Plan för utfrågning av sakkunniga godkänns.</sis:KappaleKooste></vsk:Toimenpide></vsk:Asiakohta><vsk:MuuAsiakohta met1:muuTunnus=\\\"35335\\\" vsk1:kasittelyvaiheKoodi=\\\"KOKTS\\\" vsk1:kohtaJNro=\\\"7\\\" vsk1:kohtatyyppiKoodi=\\\"Ärendepunkt\\\" vsk1:yleinenKasittelyvaiheKoodi=\\\"KOKOUS\\\"><vsk1:KohtaNumero>7</vsk1:KohtaNumero><sis1:OtsikkoTeksti>Subsidiaritetsförfarande</sis1:OtsikkoTeksti><vsk:Toimenpide met1:muuTunnus=\\\"146028\\\" vsk1:fraasiTunnus=\\\"KOKTSE_1\\\"><sis:KappaleKooste>En förteckning över subsidiaritetsärenden antecknas ha inkommit.</sis:KappaleKooste></vsk:Toimenpide></vsk:MuuAsiakohta><vsk:MuuAsiakohta met1:muuTunnus=\\\"31322\\\" vsk1:kasittelyvaiheKoodi=\\\"KOKMUU\\\" vsk1:kohtaJNro=\\\"8\\\" vsk1:kohtatyyppiKoodi=\\\"Ärendepunkt\\\" vsk1:yleinenKasittelyvaiheKoodi=\\\"KOKOUS\\\"><vsk1:KohtaNumero>8</vsk1:KohtaNumero><sis1:OtsikkoTeksti>Övriga ärenden</sis1:OtsikkoTeksti><vsk:Toimenpide met1:muuTunnus=\\\"135129\\\" vsk1:fraasiTunnus=\\\"KE 94\\\"><sis:KappaleKooste>Antäcknas en listutdelning av lagpropositioner för utskottet gällande vårperioden.</sis:KappaleKooste><sis:KappaleKooste>Besök av arbets- och socialkomité från Norges Storting tisdagen den 14.2.2017 kl. 11.50—12.35.</sis:KappaleKooste><sis:KappaleKooste>OECD:s femte parlamentarisk sammanträde i Paris 8.—10.2.2017.</sis:KappaleKooste><sis:KappaleKooste>Folkpensionsanstaltens inbjuda till diskussionsmötet torsdagen den 2.3.2017 kl. 9.15—11.00.</sis:KappaleKooste></vsk:Toimenpide></vsk:MuuAsiakohta><vsk:MuuAsiakohta met1:muuTunnus=\\\"31323\\\" vsk1:kasittelyvaiheKoodi=\\\"KOKSEU\\\" vsk1:kohtaJNro=\\\"9\\\" vsk1:kohtatyyppiKoodi=\\\"Ärendepunkt\\\" vsk1:yleinenKasittelyvaiheKoodi=\\\"KOKOUS\\\"><vsk1:KohtaNumero>9</vsk1:KohtaNumero><sis1:OtsikkoTeksti>Nästa sammanträde</sis1:OtsikkoTeksti><vsk:Toimenpide met1:muuTunnus=\\\"135130\\\" vsk1:fraasiTunnus=\\\"KE 90\\\"><sis:KappaleKooste>Utskottets nästa sammanträde är onsdagen den 8.2.2017 kl. 11.30.</sis:KappaleKooste></vsk:Toimenpide></vsk:MuuAsiakohta></ptk:Esityslista></ns:RakenneAsiakirja></ns:SiirtoAsiakirja></ns11:Siirto>\"\n"
     ]
    }
   ],
   "source": [
    "## collect all data in the API... (incomplete example)\n",
    "\n",
    "for( i in 1:2 ) {\n",
    "    \n",
    "    url <- paste( 'http://avoindata.eduskunta.fi/api/v1/tables/VaskiData/rows?columnName=Id&columnValue=', i, sep = '' )\n",
    "    r <- GET( url )\n",
    "    \n",
    "    data <- content(r, \"parsed\")\n",
    "    \n",
    "    print( data$rowData[[1]][[2]] )\n",
    "}"
   ]
  },
  {
   "cell_type": "code",
   "execution_count": null,
   "metadata": {},
   "outputs": [],
   "source": []
  }
 ],
 "metadata": {
  "kernelspec": {
   "display_name": "R",
   "language": "R",
   "name": "ir"
  },
  "language_info": {
   "codemirror_mode": "r",
   "file_extension": ".r",
   "mimetype": "text/x-r-source",
   "name": "R",
   "pygments_lexer": "r",
   "version": "3.5.0"
  }
 },
 "nbformat": 4,
 "nbformat_minor": 2
}
