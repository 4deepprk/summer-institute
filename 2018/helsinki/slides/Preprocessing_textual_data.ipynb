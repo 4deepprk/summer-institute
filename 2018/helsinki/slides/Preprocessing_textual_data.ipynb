{
 "cells": [
  {
   "cell_type": "code",
   "execution_count": 37,
   "metadata": {},
   "outputs": [],
   "source": [
    "uglytext <- \"Class of 2018: Senior Stories of Discovery, Learning and Serving\\n\\n\\t\\t\\t\\t\\t\\t\\t\""
   ]
  },
  {
   "cell_type": "markdown",
   "metadata": {},
   "source": [
    "## Power of GREP\n",
    "\n",
    "See manual [here](http://www.rstudio.com/wp-content/uploads/2016/09/RegExCheatsheet.pdf)."
   ]
  },
  {
   "cell_type": "code",
   "execution_count": 38,
   "metadata": {},
   "outputs": [
    {
     "data": {
      "text/html": [
       "'what to replace in this text'"
      ],
      "text/latex": [
       "'what to replace in this text'"
      ],
      "text/markdown": [
       "'what to replace in this text'"
      ],
      "text/plain": [
       "[1] \"what to replace in this text\""
      ]
     },
     "metadata": {},
     "output_type": "display_data"
    }
   ],
   "source": [
    "gsub(\"what to change\", \"what to replace\", \"what to change in this text\")"
   ]
  },
  {
   "cell_type": "code",
   "execution_count": 39,
   "metadata": {},
   "outputs": [
    {
     "data": {
      "text/html": [
       "'Class of 2018: Senior Stories of Discovery, Learning and Serving\\n\\n'"
      ],
      "text/latex": [
       "'Class of 2018: Senior Stories of Discovery, Learning and Serving\\textbackslash{}n\\textbackslash{}n'"
      ],
      "text/markdown": [
       "'Class of 2018: Senior Stories of Discovery, Learning and Serving\\n\\n'"
      ],
      "text/plain": [
       "[1] \"Class of 2018: Senior Stories of Discovery, Learning and Serving\\n\\n\""
      ]
     },
     "metadata": {},
     "output_type": "display_data"
    }
   ],
   "source": [
    "gsub(\"\\t\", \"\", uglytext)"
   ]
  },
  {
   "cell_type": "code",
   "execution_count": 40,
   "metadata": {},
   "outputs": [
    {
     "data": {
      "text/html": [
       "<span style=white-space:pre-wrap>'Class of       Senior Stories of Discovery  Learning and Serving         '</span>"
      ],
      "text/latex": [
       "'Class of       Senior Stories of Discovery  Learning and Serving         '"
      ],
      "text/markdown": [
       "<span style=white-space:pre-wrap>'Class of       Senior Stories of Discovery  Learning and Serving         '</span>"
      ],
      "text/plain": [
       "[1] \"Class of       Senior Stories of Discovery  Learning and Serving         \""
      ]
     },
     "metadata": {},
     "output_type": "display_data"
    }
   ],
   "source": [
    "gsub(\"[^[:alpha:]]\", \" \", uglytext)"
   ]
  },
  {
   "cell_type": "markdown",
   "metadata": {},
   "source": [
    "## Working with a corpus and document-term-matrix"
   ]
  },
  {
   "cell_type": "code",
   "execution_count": 41,
   "metadata": {},
   "outputs": [
    {
     "data": {
      "text/html": [
       "<table>\n",
       "<thead><tr><th scope=col>status_id</th><th scope=col>created_at</th><th scope=col>user_id</th><th scope=col>screen_name</th><th scope=col>text</th><th scope=col>source</th><th scope=col>reply_to_status_id</th><th scope=col>reply_to_user_id</th><th scope=col>reply_to_screen_name</th><th scope=col>is_quote</th><th scope=col>⋯</th><th scope=col>retweet_text</th><th scope=col>place_url</th><th scope=col>place_name</th><th scope=col>place_full_name</th><th scope=col>place_type</th><th scope=col>country</th><th scope=col>country_code</th><th scope=col>geo_coords</th><th scope=col>coords_coords</th><th scope=col>bbox_coords</th></tr></thead>\n",
       "<tbody>\n",
       "\t<tr><td>997577906007298048                                                                                                                                                                                                                                                                                       </td><td>2018-05-18 20:41:21                                                                                                                                                                                                                                                                                      </td><td>25073877                                                                                                                                                                                                                                                                                                 </td><td>realDonaldTrump                                                                                                                                                                                                                                                                                          </td><td>Just met with UN Secretary-General António Guterres who is working hard to “Make the United Nations Great Again.” When the UN does more to solve conflicts around the world, it means the U.S. has less to do and we save money. @NikkiHaley is doing a fantastic job! https://t.co/pqUv6cyH2z           </td><td>Twitter for iPhone                                                                                                                                                                                                                                                                                       </td><td>NA                                                                                                                                                                                                                                                                                                       </td><td>NA                                                                                                                                                                                                                                                                                                       </td><td>NA                                                                                                                                                                                                                                                                                                       </td><td>FALSE                                                                                                                                                                                                                                                                                                    </td><td>⋯                                                                                                                                                                                                                                                                                                        </td><td>NA                                                                                                                                                                                                                                                                                                       </td><td>NA                                                                                                                                                                                                                                                                                                       </td><td>NA                                                                                                                                                                                                                                                                                                       </td><td>NA                                                                                                                                                                                                                                                                                                       </td><td>NA                                                                                                                                                                                                                                                                                                       </td><td>NA                                                                                                                                                                                                                                                                                                       </td><td>NA                                                                                                                                                                                                                                                                                                       </td><td>NA, NA                                                                                                                                                                                                                                                                                                   </td><td>NA, NA                                                                                                                                                                                                                                                                                                   </td><td>NA, NA, NA, NA, NA, NA, NA, NA                                                                                                                                                                                                                                                                           </td></tr>\n",
       "\t<tr><td>997573139663028224                                                                                                                                                                                                                                                                                       </td><td>2018-05-18 20:22:25                                                                                                                                                                                                                                                                                      </td><td>25073877                                                                                                                                                                                                                                                                                                 </td><td>realDonaldTrump                                                                                                                                                                                                                                                                                          </td><td>America is a Nation that believes in the power of redemption. America is a Nation that believes in second chances - and America is a Nation that believes that the best is always yet to come! #PrisonReform https://t.co/Yk5UJUYgHN                                                                     </td><td>Twitter for iPhone                                                                                                                                                                                                                                                                                       </td><td>NA                                                                                                                                                                                                                                                                                                       </td><td>NA                                                                                                                                                                                                                                                                                                       </td><td>NA                                                                                                                                                                                                                                                                                                       </td><td>FALSE                                                                                                                                                                                                                                                                                                    </td><td>⋯                                                                                                                                                                                                                                                                                                        </td><td>NA                                                                                                                                                                                                                                                                                                       </td><td>NA                                                                                                                                                                                                                                                                                                       </td><td>NA                                                                                                                                                                                                                                                                                                       </td><td>NA                                                                                                                                                                                                                                                                                                       </td><td>NA                                                                                                                                                                                                                                                                                                       </td><td>NA                                                                                                                                                                                                                                                                                                       </td><td>NA                                                                                                                                                                                                                                                                                                       </td><td>NA, NA                                                                                                                                                                                                                                                                                                   </td><td>NA, NA                                                                                                                                                                                                                                                                                                   </td><td>NA, NA, NA, NA, NA, NA, NA, NA                                                                                                                                                                                                                                                                           </td></tr>\n",
       "\t<tr><td>997568208369577985                                                                                                                                                                                                                                                                                                                               </td><td>2018-05-18 20:02:49                                                                                                                                                                                                                                                                                                                              </td><td>25073877                                                                                                                                                                                                                                                                                                                                         </td><td>realDonaldTrump                                                                                                                                                                                                                                                                                                                                  </td><td><span style=white-space:pre-wrap>RT @SteveForbesCEO: .@realDonaldTrump speech on drug costs pays immediate dividends. New @Amgen drug lists at 30% less than expected. Middl…                                                                                                                                                             </span></td><td>Twitter for iPhone                                                                                                                                                                                                                                                                                                                               </td><td>NA                                                                                                                                                                                                                                                                                                                                               </td><td>NA                                                                                                                                                                                                                                                                                                                                               </td><td>NA                                                                                                                                                                                                                                                                                                                                               </td><td>FALSE                                                                                                                                                                                                                                                                                                                                            </td><td>⋯                                                                                                                                                                                                                                                                                                                                                </td><td><span style=white-space:pre-wrap>.@realDonaldTrump speech on drug costs pays immediate dividends. New @Amgen drug lists at 30% less than expected. Middlemen like Pharmacy Benefit Managers, insurers &amp;amp; hospitals would do well by passing discounts on to patients. @SecAzar  @SGottliebFDA \n",
       "https://t.co/mfRQ5COtev</span>            </td><td>NA                                                                                                                                                                                                                                                                                                                                               </td><td>NA                                                                                                                                                                                                                                                                                                                                               </td><td>NA                                                                                                                                                                                                                                                                                                                                               </td><td>NA                                                                                                                                                                                                                                                                                                                                               </td><td>NA                                                                                                                                                                                                                                                                                                                                               </td><td>NA                                                                                                                                                                                                                                                                                                                                               </td><td>NA, NA                                                                                                                                                                                                                                                                                                                                           </td><td>NA, NA                                                                                                                                                                                                                                                                                                                                           </td><td>NA, NA, NA, NA, NA, NA, NA, NA                                                                                                                                                                                                                                                                                                                   </td></tr>\n",
       "\t<tr><td>997515759281680385                                                                                                                                                                                                                                                                                       </td><td>2018-05-18 16:34:24                                                                                                                                                                                                                                                                                      </td><td>25073877                                                                                                                                                                                                                                                                                                 </td><td>realDonaldTrump                                                                                                                                                                                                                                                                                          </td><td>We grieve for the terrible loss of life, and send our support and love to everyone affected by this horrible attack in Texas. To the students, families, teachers and personnel at Santa Fe High School – we are with you in this tragic hour, and we will be with you forever... https://t.co/LtJ0D29Hsv</td><td>Twitter for iPhone                                                                                                                                                                                                                                                                                       </td><td>NA                                                                                                                                                                                                                                                                                                       </td><td>NA                                                                                                                                                                                                                                                                                                       </td><td>NA                                                                                                                                                                                                                                                                                                       </td><td>FALSE                                                                                                                                                                                                                                                                                                    </td><td>⋯                                                                                                                                                                                                                                                                                                        </td><td>NA                                                                                                                                                                                                                                                                                                       </td><td>NA                                                                                                                                                                                                                                                                                                       </td><td>NA                                                                                                                                                                                                                                                                                                       </td><td>NA                                                                                                                                                                                                                                                                                                       </td><td>NA                                                                                                                                                                                                                                                                                                       </td><td>NA                                                                                                                                                                                                                                                                                                       </td><td>NA                                                                                                                                                                                                                                                                                                       </td><td>NA, NA                                                                                                                                                                                                                                                                                                   </td><td>NA, NA                                                                                                                                                                                                                                                                                                   </td><td>NA, NA, NA, NA, NA, NA, NA, NA                                                                                                                                                                                                                                                                           </td></tr>\n",
       "\t<tr><td>997493407097524224                                                                                                                                                                                                                                                                                       </td><td>2018-05-18 15:05:35                                                                                                                                                                                                                                                                                      </td><td>25073877                                                                                                                                                                                                                                                                                                 </td><td>realDonaldTrump                                                                                                                                                                                                                                                                                          </td><td>School shooting in Texas. Early reports not looking good. God bless all!                                                                                                                                                                                                                                 </td><td>Twitter for iPhone                                                                                                                                                                                                                                                                                       </td><td>NA                                                                                                                                                                                                                                                                                                       </td><td>NA                                                                                                                                                                                                                                                                                                       </td><td>NA                                                                                                                                                                                                                                                                                                       </td><td>FALSE                                                                                                                                                                                                                                                                                                    </td><td>⋯                                                                                                                                                                                                                                                                                                        </td><td>NA                                                                                                                                                                                                                                                                                                       </td><td>NA                                                                                                                                                                                                                                                                                                       </td><td>NA                                                                                                                                                                                                                                                                                                       </td><td>NA                                                                                                                                                                                                                                                                                                       </td><td>NA                                                                                                                                                                                                                                                                                                       </td><td>NA                                                                                                                                                                                                                                                                                                       </td><td>NA                                                                                                                                                                                                                                                                                                       </td><td>NA, NA                                                                                                                                                                                                                                                                                                   </td><td>NA, NA                                                                                                                                                                                                                                                                                                   </td><td>NA, NA, NA, NA, NA, NA, NA, NA                                                                                                                                                                                                                                                                           </td></tr>\n",
       "\t<tr><td>997474432443707393                                                                                                                                                                                                                                                                                       </td><td>2018-05-18 13:50:11                                                                                                                                                                                                                                                                                      </td><td>25073877                                                                                                                                                                                                                                                                                                 </td><td>realDonaldTrump                                                                                                                                                                                                                                                                                          </td><td>Reports are there was indeed at least one FBI representative implanted, for political purposes, into my campaign for president. It took place very early on, and long before the phony Russia Hoax became a “hot” Fake News story. If true - all time biggest political scandal!                         </td><td>Twitter for iPhone                                                                                                                                                                                                                                                                                       </td><td>NA                                                                                                                                                                                                                                                                                                       </td><td>NA                                                                                                                                                                                                                                                                                                       </td><td>NA                                                                                                                                                                                                                                                                                                       </td><td>FALSE                                                                                                                                                                                                                                                                                                    </td><td>⋯                                                                                                                                                                                                                                                                                                        </td><td>NA                                                                                                                                                                                                                                                                                                       </td><td>NA                                                                                                                                                                                                                                                                                                       </td><td>NA                                                                                                                                                                                                                                                                                                       </td><td>NA                                                                                                                                                                                                                                                                                                       </td><td>NA                                                                                                                                                                                                                                                                                                       </td><td>NA                                                                                                                                                                                                                                                                                                       </td><td>NA                                                                                                                                                                                                                                                                                                       </td><td>NA, NA                                                                                                                                                                                                                                                                                                   </td><td>NA, NA                                                                                                                                                                                                                                                                                                   </td><td>NA, NA, NA, NA, NA, NA, NA, NA                                                                                                                                                                                                                                                                           </td></tr>\n",
       "</tbody>\n",
       "</table>\n"
      ],
      "text/latex": [
       "\\begin{tabular}{r|llllllllllllllllllllllllllllllllllllllllll}\n",
       " status\\_id & created\\_at & user\\_id & screen\\_name & text & source & reply\\_to\\_status\\_id & reply\\_to\\_user\\_id & reply\\_to\\_screen\\_name & is\\_quote & ⋯ & retweet\\_text & place\\_url & place\\_name & place\\_full\\_name & place\\_type & country & country\\_code & geo\\_coords & coords\\_coords & bbox\\_coords\\\\\n",
       "\\hline\n",
       "\t 997577906007298048                                                                                                                                                                                                                                                                                        & 2018-05-18 20:41:21                                                                                                                                                                                                                                                                                       & 25073877                                                                                                                                                                                                                                                                                                  & realDonaldTrump                                                                                                                                                                                                                                                                                           & Just met with UN Secretary-General António Guterres who is working hard to “Make the United Nations Great Again.” When the UN does more to solve conflicts around the world, it means the U.S. has less to do and we save money. @NikkiHaley is doing a fantastic job! https://t.co/pqUv6cyH2z            & Twitter for iPhone                                                                                                                                                                                                                                                                                        & NA                                                                                                                                                                                                                                                                                                        & NA                                                                                                                                                                                                                                                                                                        & NA                                                                                                                                                                                                                                                                                                        & FALSE                                                                                                                                                                                                                                                                                                     & ⋯                                                                                                                                                                                                                                                                                                         & NA                                                                                                                                                                                                                                                                                                        & NA                                                                                                                                                                                                                                                                                                        & NA                                                                                                                                                                                                                                                                                                        & NA                                                                                                                                                                                                                                                                                                        & NA                                                                                                                                                                                                                                                                                                        & NA                                                                                                                                                                                                                                                                                                        & NA                                                                                                                                                                                                                                                                                                        & NA, NA                                                                                                                                                                                                                                                                                                    & NA, NA                                                                                                                                                                                                                                                                                                    & NA, NA, NA, NA, NA, NA, NA, NA                                                                                                                                                                                                                                                                           \\\\\n",
       "\t 997573139663028224                                                                                                                                                                                                                                                                                          & 2018-05-18 20:22:25                                                                                                                                                                                                                                                                                         & 25073877                                                                                                                                                                                                                                                                                                    & realDonaldTrump                                                                                                                                                                                                                                                                                             & America is a Nation that believes in the power of redemption. America is a Nation that believes in second chances - and America is a Nation that believes that the best is always yet to come! \\#PrisonReform https://t.co/Yk5UJUYgHN                                                                      & Twitter for iPhone                                                                                                                                                                                                                                                                                          & NA                                                                                                                                                                                                                                                                                                          & NA                                                                                                                                                                                                                                                                                                          & NA                                                                                                                                                                                                                                                                                                          & FALSE                                                                                                                                                                                                                                                                                                       & ⋯                                                                                                                                                                                                                                                                                                           & NA                                                                                                                                                                                                                                                                                                          & NA                                                                                                                                                                                                                                                                                                          & NA                                                                                                                                                                                                                                                                                                          & NA                                                                                                                                                                                                                                                                                                          & NA                                                                                                                                                                                                                                                                                                          & NA                                                                                                                                                                                                                                                                                                          & NA                                                                                                                                                                                                                                                                                                          & NA, NA                                                                                                                                                                                                                                                                                                      & NA, NA                                                                                                                                                                                                                                                                                                      & NA, NA, NA, NA, NA, NA, NA, NA                                                                                                                                                                                                                                                                             \\\\\n",
       "\t 997568208369577985                                                                                                                                                                                                                                                                                          & 2018-05-18 20:02:49                                                                                                                                                                                                                                                                                         & 25073877                                                                                                                                                                                                                                                                                                    & realDonaldTrump                                                                                                                                                                                                                                                                                             & RT @SteveForbesCEO: .@realDonaldTrump speech on drug costs pays immediate dividends. New @Amgen drug lists at 30\\% less than expected. Middl…                                                                                                                                                              & Twitter for iPhone                                                                                                                                                                                                                                                                                          & NA                                                                                                                                                                                                                                                                                                          & NA                                                                                                                                                                                                                                                                                                          & NA                                                                                                                                                                                                                                                                                                          & FALSE                                                                                                                                                                                                                                                                                                       & ⋯                                                                                                                                                                                                                                                                                                           & .@realDonaldTrump speech on drug costs pays immediate dividends. New @Amgen drug lists at 30\\% less than expected. Middlemen like Pharmacy Benefit Managers, insurers \\&amp; hospitals would do well by passing discounts on to patients. @SecAzar  @SGottliebFDA \n",
       "https://t.co/mfRQ5COtev               & NA                                                                                                                                                                                                                                                                                                          & NA                                                                                                                                                                                                                                                                                                          & NA                                                                                                                                                                                                                                                                                                          & NA                                                                                                                                                                                                                                                                                                          & NA                                                                                                                                                                                                                                                                                                          & NA                                                                                                                                                                                                                                                                                                          & NA, NA                                                                                                                                                                                                                                                                                                      & NA, NA                                                                                                                                                                                                                                                                                                      & NA, NA, NA, NA, NA, NA, NA, NA                                                                                                                                                                                                                                                                             \\\\\n",
       "\t 997515759281680385                                                                                                                                                                                                                                                                                        & 2018-05-18 16:34:24                                                                                                                                                                                                                                                                                       & 25073877                                                                                                                                                                                                                                                                                                  & realDonaldTrump                                                                                                                                                                                                                                                                                           & We grieve for the terrible loss of life, and send our support and love to everyone affected by this horrible attack in Texas. To the students, families, teachers and personnel at Santa Fe High School – we are with you in this tragic hour, and we will be with you forever... https://t.co/LtJ0D29Hsv & Twitter for iPhone                                                                                                                                                                                                                                                                                        & NA                                                                                                                                                                                                                                                                                                        & NA                                                                                                                                                                                                                                                                                                        & NA                                                                                                                                                                                                                                                                                                        & FALSE                                                                                                                                                                                                                                                                                                     & ⋯                                                                                                                                                                                                                                                                                                         & NA                                                                                                                                                                                                                                                                                                        & NA                                                                                                                                                                                                                                                                                                        & NA                                                                                                                                                                                                                                                                                                        & NA                                                                                                                                                                                                                                                                                                        & NA                                                                                                                                                                                                                                                                                                        & NA                                                                                                                                                                                                                                                                                                        & NA                                                                                                                                                                                                                                                                                                        & NA, NA                                                                                                                                                                                                                                                                                                    & NA, NA                                                                                                                                                                                                                                                                                                    & NA, NA, NA, NA, NA, NA, NA, NA                                                                                                                                                                                                                                                                           \\\\\n",
       "\t 997493407097524224                                                                                                                                                                                                                                                                                        & 2018-05-18 15:05:35                                                                                                                                                                                                                                                                                       & 25073877                                                                                                                                                                                                                                                                                                  & realDonaldTrump                                                                                                                                                                                                                                                                                           & School shooting in Texas. Early reports not looking good. God bless all!                                                                                                                                                                                                                                  & Twitter for iPhone                                                                                                                                                                                                                                                                                        & NA                                                                                                                                                                                                                                                                                                        & NA                                                                                                                                                                                                                                                                                                        & NA                                                                                                                                                                                                                                                                                                        & FALSE                                                                                                                                                                                                                                                                                                     & ⋯                                                                                                                                                                                                                                                                                                         & NA                                                                                                                                                                                                                                                                                                        & NA                                                                                                                                                                                                                                                                                                        & NA                                                                                                                                                                                                                                                                                                        & NA                                                                                                                                                                                                                                                                                                        & NA                                                                                                                                                                                                                                                                                                        & NA                                                                                                                                                                                                                                                                                                        & NA                                                                                                                                                                                                                                                                                                        & NA, NA                                                                                                                                                                                                                                                                                                    & NA, NA                                                                                                                                                                                                                                                                                                    & NA, NA, NA, NA, NA, NA, NA, NA                                                                                                                                                                                                                                                                           \\\\\n",
       "\t 997474432443707393                                                                                                                                                                                                                                                                                        & 2018-05-18 13:50:11                                                                                                                                                                                                                                                                                       & 25073877                                                                                                                                                                                                                                                                                                  & realDonaldTrump                                                                                                                                                                                                                                                                                           & Reports are there was indeed at least one FBI representative implanted, for political purposes, into my campaign for president. It took place very early on, and long before the phony Russia Hoax became a “hot” Fake News story. If true - all time biggest political scandal!                          & Twitter for iPhone                                                                                                                                                                                                                                                                                        & NA                                                                                                                                                                                                                                                                                                        & NA                                                                                                                                                                                                                                                                                                        & NA                                                                                                                                                                                                                                                                                                        & FALSE                                                                                                                                                                                                                                                                                                     & ⋯                                                                                                                                                                                                                                                                                                         & NA                                                                                                                                                                                                                                                                                                        & NA                                                                                                                                                                                                                                                                                                        & NA                                                                                                                                                                                                                                                                                                        & NA                                                                                                                                                                                                                                                                                                        & NA                                                                                                                                                                                                                                                                                                        & NA                                                                                                                                                                                                                                                                                                        & NA                                                                                                                                                                                                                                                                                                        & NA, NA                                                                                                                                                                                                                                                                                                    & NA, NA                                                                                                                                                                                                                                                                                                    & NA, NA, NA, NA, NA, NA, NA, NA                                                                                                                                                                                                                                                                           \\\\\n",
       "\\end{tabular}\n"
      ],
      "text/markdown": [
       "\n",
       "status_id | created_at | user_id | screen_name | text | source | reply_to_status_id | reply_to_user_id | reply_to_screen_name | is_quote | ⋯ | retweet_text | place_url | place_name | place_full_name | place_type | country | country_code | geo_coords | coords_coords | bbox_coords | \n",
       "|---|---|---|---|---|---|\n",
       "| 997577906007298048                                                                                                                                                                                                                                                                                        | 2018-05-18 20:41:21                                                                                                                                                                                                                                                                                       | 25073877                                                                                                                                                                                                                                                                                                  | realDonaldTrump                                                                                                                                                                                                                                                                                           | Just met with UN Secretary-General António Guterres who is working hard to “Make the United Nations Great Again.” When the UN does more to solve conflicts around the world, it means the U.S. has less to do and we save money. @NikkiHaley is doing a fantastic job! https://t.co/pqUv6cyH2z            | Twitter for iPhone                                                                                                                                                                                                                                                                                        | NA                                                                                                                                                                                                                                                                                                        | NA                                                                                                                                                                                                                                                                                                        | NA                                                                                                                                                                                                                                                                                                        | FALSE                                                                                                                                                                                                                                                                                                     | ⋯                                                                                                                                                                                                                                                                                                         | NA                                                                                                                                                                                                                                                                                                        | NA                                                                                                                                                                                                                                                                                                        | NA                                                                                                                                                                                                                                                                                                        | NA                                                                                                                                                                                                                                                                                                        | NA                                                                                                                                                                                                                                                                                                        | NA                                                                                                                                                                                                                                                                                                        | NA                                                                                                                                                                                                                                                                                                        | NA, NA                                                                                                                                                                                                                                                                                                    | NA, NA                                                                                                                                                                                                                                                                                                    | NA, NA, NA, NA, NA, NA, NA, NA                                                                                                                                                                                                                                                                            | \n",
       "| 997573139663028224                                                                                                                                                                                                                                                                                        | 2018-05-18 20:22:25                                                                                                                                                                                                                                                                                       | 25073877                                                                                                                                                                                                                                                                                                  | realDonaldTrump                                                                                                                                                                                                                                                                                           | America is a Nation that believes in the power of redemption. America is a Nation that believes in second chances - and America is a Nation that believes that the best is always yet to come! #PrisonReform https://t.co/Yk5UJUYgHN                                                                      | Twitter for iPhone                                                                                                                                                                                                                                                                                        | NA                                                                                                                                                                                                                                                                                                        | NA                                                                                                                                                                                                                                                                                                        | NA                                                                                                                                                                                                                                                                                                        | FALSE                                                                                                                                                                                                                                                                                                     | ⋯                                                                                                                                                                                                                                                                                                         | NA                                                                                                                                                                                                                                                                                                        | NA                                                                                                                                                                                                                                                                                                        | NA                                                                                                                                                                                                                                                                                                        | NA                                                                                                                                                                                                                                                                                                        | NA                                                                                                                                                                                                                                                                                                        | NA                                                                                                                                                                                                                                                                                                        | NA                                                                                                                                                                                                                                                                                                        | NA, NA                                                                                                                                                                                                                                                                                                    | NA, NA                                                                                                                                                                                                                                                                                                    | NA, NA, NA, NA, NA, NA, NA, NA                                                                                                                                                                                                                                                                            | \n",
       "| 997568208369577985                                                                                                                                                                                                                                                                                        | 2018-05-18 20:02:49                                                                                                                                                                                                                                                                                       | 25073877                                                                                                                                                                                                                                                                                                  | realDonaldTrump                                                                                                                                                                                                                                                                                           | RT @SteveForbesCEO: .@realDonaldTrump speech on drug costs pays immediate dividends. New @Amgen drug lists at 30% less than expected. Middl…                                                                                                                                                              | Twitter for iPhone                                                                                                                                                                                                                                                                                        | NA                                                                                                                                                                                                                                                                                                        | NA                                                                                                                                                                                                                                                                                                        | NA                                                                                                                                                                                                                                                                                                        | FALSE                                                                                                                                                                                                                                                                                                     | ⋯                                                                                                                                                                                                                                                                                                         | .@realDonaldTrump speech on drug costs pays immediate dividends. New @Amgen drug lists at 30% less than expected. Middlemen like Pharmacy Benefit Managers, insurers &amp; hospitals would do well by passing discounts on to patients. @SecAzar  @SGottliebFDA \n",
       "https://t.co/mfRQ5COtev                 | NA                                                                                                                                                                                                                                                                                                        | NA                                                                                                                                                                                                                                                                                                        | NA                                                                                                                                                                                                                                                                                                        | NA                                                                                                                                                                                                                                                                                                        | NA                                                                                                                                                                                                                                                                                                        | NA                                                                                                                                                                                                                                                                                                        | NA, NA                                                                                                                                                                                                                                                                                                    | NA, NA                                                                                                                                                                                                                                                                                                    | NA, NA, NA, NA, NA, NA, NA, NA                                                                                                                                                                                                                                                                            | \n",
       "| 997515759281680385                                                                                                                                                                                                                                                                                        | 2018-05-18 16:34:24                                                                                                                                                                                                                                                                                       | 25073877                                                                                                                                                                                                                                                                                                  | realDonaldTrump                                                                                                                                                                                                                                                                                           | We grieve for the terrible loss of life, and send our support and love to everyone affected by this horrible attack in Texas. To the students, families, teachers and personnel at Santa Fe High School – we are with you in this tragic hour, and we will be with you forever... https://t.co/LtJ0D29Hsv | Twitter for iPhone                                                                                                                                                                                                                                                                                        | NA                                                                                                                                                                                                                                                                                                        | NA                                                                                                                                                                                                                                                                                                        | NA                                                                                                                                                                                                                                                                                                        | FALSE                                                                                                                                                                                                                                                                                                     | ⋯                                                                                                                                                                                                                                                                                                         | NA                                                                                                                                                                                                                                                                                                        | NA                                                                                                                                                                                                                                                                                                        | NA                                                                                                                                                                                                                                                                                                        | NA                                                                                                                                                                                                                                                                                                        | NA                                                                                                                                                                                                                                                                                                        | NA                                                                                                                                                                                                                                                                                                        | NA                                                                                                                                                                                                                                                                                                        | NA, NA                                                                                                                                                                                                                                                                                                    | NA, NA                                                                                                                                                                                                                                                                                                    | NA, NA, NA, NA, NA, NA, NA, NA                                                                                                                                                                                                                                                                            | \n",
       "| 997493407097524224                                                                                                                                                                                                                                                                                        | 2018-05-18 15:05:35                                                                                                                                                                                                                                                                                       | 25073877                                                                                                                                                                                                                                                                                                  | realDonaldTrump                                                                                                                                                                                                                                                                                           | School shooting in Texas. Early reports not looking good. God bless all!                                                                                                                                                                                                                                  | Twitter for iPhone                                                                                                                                                                                                                                                                                        | NA                                                                                                                                                                                                                                                                                                        | NA                                                                                                                                                                                                                                                                                                        | NA                                                                                                                                                                                                                                                                                                        | FALSE                                                                                                                                                                                                                                                                                                     | ⋯                                                                                                                                                                                                                                                                                                         | NA                                                                                                                                                                                                                                                                                                        | NA                                                                                                                                                                                                                                                                                                        | NA                                                                                                                                                                                                                                                                                                        | NA                                                                                                                                                                                                                                                                                                        | NA                                                                                                                                                                                                                                                                                                        | NA                                                                                                                                                                                                                                                                                                        | NA                                                                                                                                                                                                                                                                                                        | NA, NA                                                                                                                                                                                                                                                                                                    | NA, NA                                                                                                                                                                                                                                                                                                    | NA, NA, NA, NA, NA, NA, NA, NA                                                                                                                                                                                                                                                                            | \n",
       "| 997474432443707393                                                                                                                                                                                                                                                                                        | 2018-05-18 13:50:11                                                                                                                                                                                                                                                                                       | 25073877                                                                                                                                                                                                                                                                                                  | realDonaldTrump                                                                                                                                                                                                                                                                                           | Reports are there was indeed at least one FBI representative implanted, for political purposes, into my campaign for president. It took place very early on, and long before the phony Russia Hoax became a “hot” Fake News story. If true - all time biggest political scandal!                          | Twitter for iPhone                                                                                                                                                                                                                                                                                        | NA                                                                                                                                                                                                                                                                                                        | NA                                                                                                                                                                                                                                                                                                        | NA                                                                                                                                                                                                                                                                                                        | FALSE                                                                                                                                                                                                                                                                                                     | ⋯                                                                                                                                                                                                                                                                                                         | NA                                                                                                                                                                                                                                                                                                        | NA                                                                                                                                                                                                                                                                                                        | NA                                                                                                                                                                                                                                                                                                        | NA                                                                                                                                                                                                                                                                                                        | NA                                                                                                                                                                                                                                                                                                        | NA                                                                                                                                                                                                                                                                                                        | NA                                                                                                                                                                                                                                                                                                        | NA, NA                                                                                                                                                                                                                                                                                                    | NA, NA                                                                                                                                                                                                                                                                                                    | NA, NA, NA, NA, NA, NA, NA, NA                                                                                                                                                                                                                                                                            | \n",
       "\n",
       "\n"
      ],
      "text/plain": [
       "  status_id          created_at          user_id  screen_name    \n",
       "1 997577906007298048 2018-05-18 20:41:21 25073877 realDonaldTrump\n",
       "2 997573139663028224 2018-05-18 20:22:25 25073877 realDonaldTrump\n",
       "3 997568208369577985 2018-05-18 20:02:49 25073877 realDonaldTrump\n",
       "4 997515759281680385 2018-05-18 16:34:24 25073877 realDonaldTrump\n",
       "5 997493407097524224 2018-05-18 15:05:35 25073877 realDonaldTrump\n",
       "6 997474432443707393 2018-05-18 13:50:11 25073877 realDonaldTrump\n",
       "  text                                                                                                                                                                                                                                                                                                     \n",
       "1 Just met with UN Secretary-General António Guterres who is working hard to “Make the United Nations Great Again.” When the UN does more to solve conflicts around the world, it means the U.S. has less to do and we save money. @NikkiHaley is doing a fantastic job! https://t.co/pqUv6cyH2z           \n",
       "2 America is a Nation that believes in the power of redemption. America is a Nation that believes in second chances - and America is a Nation that believes that the best is always yet to come! #PrisonReform https://t.co/Yk5UJUYgHN                                                                     \n",
       "3 RT @SteveForbesCEO: .@realDonaldTrump speech on drug costs pays immediate dividends. New @Amgen drug lists at 30% less than expected. Middl…                                                                                                                                                             \n",
       "4 We grieve for the terrible loss of life, and send our support and love to everyone affected by this horrible attack in Texas. To the students, families, teachers and personnel at Santa Fe High School – we are with you in this tragic hour, and we will be with you forever... https://t.co/LtJ0D29Hsv\n",
       "5 School shooting in Texas. Early reports not looking good. God bless all!                                                                                                                                                                                                                                 \n",
       "6 Reports are there was indeed at least one FBI representative implanted, for political purposes, into my campaign for president. It took place very early on, and long before the phony Russia Hoax became a “hot” Fake News story. If true - all time biggest political scandal!                         \n",
       "  source             reply_to_status_id reply_to_user_id reply_to_screen_name\n",
       "1 Twitter for iPhone NA                 NA               NA                  \n",
       "2 Twitter for iPhone NA                 NA               NA                  \n",
       "3 Twitter for iPhone NA                 NA               NA                  \n",
       "4 Twitter for iPhone NA                 NA               NA                  \n",
       "5 Twitter for iPhone NA                 NA               NA                  \n",
       "6 Twitter for iPhone NA                 NA               NA                  \n",
       "  is_quote ⋯\n",
       "1 FALSE    ⋯\n",
       "2 FALSE    ⋯\n",
       "3 FALSE    ⋯\n",
       "4 FALSE    ⋯\n",
       "5 FALSE    ⋯\n",
       "6 FALSE    ⋯\n",
       "  retweet_text                                                                                                                                                                                                                                                                             \n",
       "1 NA                                                                                                                                                                                                                                                                                       \n",
       "2 NA                                                                                                                                                                                                                                                                                       \n",
       "3 .@realDonaldTrump speech on drug costs pays immediate dividends. New @Amgen drug lists at 30% less than expected. Middlemen like Pharmacy Benefit Managers, insurers &amp; hospitals would do well by passing discounts on to patients. @SecAzar  @SGottliebFDA \\nhttps://t.co/mfRQ5COtev\n",
       "4 NA                                                                                                                                                                                                                                                                                       \n",
       "5 NA                                                                                                                                                                                                                                                                                       \n",
       "6 NA                                                                                                                                                                                                                                                                                       \n",
       "  place_url place_name place_full_name place_type country country_code\n",
       "1 NA        NA         NA              NA         NA      NA          \n",
       "2 NA        NA         NA              NA         NA      NA          \n",
       "3 NA        NA         NA              NA         NA      NA          \n",
       "4 NA        NA         NA              NA         NA      NA          \n",
       "5 NA        NA         NA              NA         NA      NA          \n",
       "6 NA        NA         NA              NA         NA      NA          \n",
       "  geo_coords coords_coords bbox_coords                   \n",
       "1 NA, NA     NA, NA        NA, NA, NA, NA, NA, NA, NA, NA\n",
       "2 NA, NA     NA, NA        NA, NA, NA, NA, NA, NA, NA, NA\n",
       "3 NA, NA     NA, NA        NA, NA, NA, NA, NA, NA, NA, NA\n",
       "4 NA, NA     NA, NA        NA, NA, NA, NA, NA, NA, NA, NA\n",
       "5 NA, NA     NA, NA        NA, NA, NA, NA, NA, NA, NA, NA\n",
       "6 NA, NA     NA, NA        NA, NA, NA, NA, NA, NA, NA, NA"
      ]
     },
     "metadata": {},
     "output_type": "display_data"
    }
   ],
   "source": [
    "## Loading example text data\n",
    "\n",
    "load(url(\"https://cbail.github.io/Trump_Tweets.Rdata\"))\n",
    "head(trumptweets)"
   ]
  },
  {
   "cell_type": "code",
   "execution_count": 54,
   "metadata": {},
   "outputs": [],
   "source": [
    "library(tm)\n",
    "trump_corpus <- Corpus(VectorSource( trumptweets$text) ) "
   ]
  },
  {
   "cell_type": "markdown",
   "metadata": {},
   "source": [
    "Other ways to use read your corpus:\n",
    "\n",
    "``Corpus( DirSource(directory = \"directory\") )``\n",
    "\n",
    "``Corpus( VectorSource( dataframe$variable ) )``"
   ]
  },
  {
   "cell_type": "code",
   "execution_count": 43,
   "metadata": {},
   "outputs": [],
   "source": [
    "library(tidytext)\n",
    "library(dplyr)"
   ]
  },
  {
   "cell_type": "code",
   "execution_count": 44,
   "metadata": {},
   "outputs": [],
   "source": [
    "tidy_trump_tweets<- trumptweets %>%\n",
    "    select(created_at,text) %>%\n",
    "    unnest_tokens(\"word\", text)"
   ]
  },
  {
   "cell_type": "code",
   "execution_count": 45,
   "metadata": {},
   "outputs": [
    {
     "data": {
      "text/html": [
       "<table>\n",
       "<thead><tr><th scope=col>created_at</th><th scope=col>word</th></tr></thead>\n",
       "<tbody>\n",
       "\t<tr><td>2018-05-18 20:41:21</td><td>just               </td></tr>\n",
       "\t<tr><td>2018-05-18 20:41:21</td><td>met                </td></tr>\n",
       "\t<tr><td>2018-05-18 20:41:21</td><td>with               </td></tr>\n",
       "\t<tr><td>2018-05-18 20:41:21</td><td>un                 </td></tr>\n",
       "\t<tr><td>2018-05-18 20:41:21</td><td>secretary          </td></tr>\n",
       "\t<tr><td>2018-05-18 20:41:21</td><td>general            </td></tr>\n",
       "</tbody>\n",
       "</table>\n"
      ],
      "text/latex": [
       "\\begin{tabular}{r|ll}\n",
       " created\\_at & word\\\\\n",
       "\\hline\n",
       "\t 2018-05-18 20:41:21 & just               \\\\\n",
       "\t 2018-05-18 20:41:21 & met                \\\\\n",
       "\t 2018-05-18 20:41:21 & with               \\\\\n",
       "\t 2018-05-18 20:41:21 & un                 \\\\\n",
       "\t 2018-05-18 20:41:21 & secretary          \\\\\n",
       "\t 2018-05-18 20:41:21 & general            \\\\\n",
       "\\end{tabular}\n"
      ],
      "text/markdown": [
       "\n",
       "created_at | word | \n",
       "|---|---|---|---|---|---|\n",
       "| 2018-05-18 20:41:21 | just                | \n",
       "| 2018-05-18 20:41:21 | met                 | \n",
       "| 2018-05-18 20:41:21 | with                | \n",
       "| 2018-05-18 20:41:21 | un                  | \n",
       "| 2018-05-18 20:41:21 | secretary           | \n",
       "| 2018-05-18 20:41:21 | general             | \n",
       "\n",
       "\n"
      ],
      "text/plain": [
       "  created_at          word     \n",
       "1 2018-05-18 20:41:21 just     \n",
       "2 2018-05-18 20:41:21 met      \n",
       "3 2018-05-18 20:41:21 with     \n",
       "4 2018-05-18 20:41:21 un       \n",
       "5 2018-05-18 20:41:21 secretary\n",
       "6 2018-05-18 20:41:21 general  "
      ]
     },
     "metadata": {},
     "output_type": "display_data"
    }
   ],
   "source": [
    "head( tidy_trump_tweets )"
   ]
  },
  {
   "cell_type": "code",
   "execution_count": 26,
   "metadata": {},
   "outputs": [
    {
     "data": {
      "text/html": [
       "<table>\n",
       "<thead><tr><th scope=col>word</th><th scope=col>n</th></tr></thead>\n",
       "<tbody>\n",
       "\t<tr><td>the  </td><td>3681 </td></tr>\n",
       "\t<tr><td>to   </td><td>2216 </td></tr>\n",
       "\t<tr><td>and  </td><td>1959 </td></tr>\n",
       "\t<tr><td>of   </td><td>1606 </td></tr>\n",
       "\t<tr><td>a    </td><td>1299 </td></tr>\n",
       "\t<tr><td>t    </td><td>1286 </td></tr>\n",
       "\t<tr><td>https</td><td>1281 </td></tr>\n",
       "\t<tr><td>co   </td><td>1265 </td></tr>\n",
       "\t<tr><td>in   </td><td>1213 </td></tr>\n",
       "\t<tr><td>is   </td><td>1045 </td></tr>\n",
       "\t<tr><td>for  </td><td> 886 </td></tr>\n",
       "\t<tr><td>on   </td><td> 724 </td></tr>\n",
       "\t<tr><td>our  </td><td> 722 </td></tr>\n",
       "\t<tr><td>great</td><td> 703 </td></tr>\n",
       "\t<tr><td>will </td><td> 675 </td></tr>\n",
       "\t<tr><td>are  </td><td> 659 </td></tr>\n",
       "\t<tr><td>with </td><td> 647 </td></tr>\n",
       "\t<tr><td>we   </td><td> 620 </td></tr>\n",
       "\t<tr><td>i    </td><td> 602 </td></tr>\n",
       "\t<tr><td>be   </td><td> 573 </td></tr>\n",
       "\t<tr><td>amp  </td><td> 562 </td></tr>\n",
       "\t<tr><td>that </td><td> 556 </td></tr>\n",
       "\t<tr><td>it   </td><td> 461 </td></tr>\n",
       "\t<tr><td>you  </td><td> 433 </td></tr>\n",
       "\t<tr><td>at   </td><td> 423 </td></tr>\n",
       "\t<tr><td>have </td><td> 414 </td></tr>\n",
       "\t<tr><td>was  </td><td> 375 </td></tr>\n",
       "\t<tr><td>rt   </td><td> 351 </td></tr>\n",
       "\t<tr><td>all  </td><td> 350 </td></tr>\n",
       "\t<tr><td>they </td><td> 336 </td></tr>\n",
       "\t<tr><td>⋮</td><td>⋮</td></tr>\n",
       "\t<tr><td>到着      </td><td>1         </td></tr>\n",
       "\t<tr><td>北朝鮮    </td><td>1         </td></tr>\n",
       "\t<tr><td>取り上げ  </td><td>1         </td></tr>\n",
       "\t<tr><td>同盟      </td><td>1         </td></tr>\n",
       "\t<tr><td>大        </td><td>1         </td></tr>\n",
       "\t<tr><td>大半      </td><td>1         </td></tr>\n",
       "\t<tr><td>尽くす    </td><td>1         </td></tr>\n",
       "\t<tr><td>成功      </td><td>1         </td></tr>\n",
       "\t<tr><td>拉致      </td><td>1         </td></tr>\n",
       "\t<tr><td>揺るぎない</td><td>1         </td></tr>\n",
       "\t<tr><td>日        </td><td>1         </td></tr>\n",
       "\t<tr><td>早速      </td><td>1         </td></tr>\n",
       "\t<tr><td>最善      </td><td>1         </td></tr>\n",
       "\t<tr><td>本当に    </td><td>1         </td></tr>\n",
       "\t<tr><td>来る      </td><td>1         </td></tr>\n",
       "\t<tr><td>歴史      </td><td>1         </td></tr>\n",
       "\t<tr><td>歴訪      </td><td>1         </td></tr>\n",
       "\t<tr><td>点        </td><td>1         </td></tr>\n",
       "\t<tr><td>的        </td><td>1         </td></tr>\n",
       "\t<tr><td>示す      </td><td>1         </td></tr>\n",
       "\t<tr><td>米        </td><td>1         </td></tr>\n",
       "\t<tr><td>米朝      </td><td>1         </td></tr>\n",
       "\t<tr><td>絆        </td><td>1         </td></tr>\n",
       "\t<tr><td>臨        </td><td>1         </td></tr>\n",
       "\t<tr><td>訪問      </td><td>1         </td></tr>\n",
       "\t<tr><td>認識      </td><td>1         </td></tr>\n",
       "\t<tr><td>費        </td><td>1         </td></tr>\n",
       "\t<tr><td>重要      </td><td>1         </td></tr>\n",
       "\t<tr><td>間違い    </td><td>1         </td></tr>\n",
       "\t<tr><td>非常      </td><td>1         </td></tr>\n",
       "</tbody>\n",
       "</table>\n"
      ],
      "text/latex": [
       "\\begin{tabular}{r|ll}\n",
       " word & n\\\\\n",
       "\\hline\n",
       "\t the   & 3681 \\\\\n",
       "\t to    & 2216 \\\\\n",
       "\t and   & 1959 \\\\\n",
       "\t of    & 1606 \\\\\n",
       "\t a     & 1299 \\\\\n",
       "\t t     & 1286 \\\\\n",
       "\t https & 1281 \\\\\n",
       "\t co    & 1265 \\\\\n",
       "\t in    & 1213 \\\\\n",
       "\t is    & 1045 \\\\\n",
       "\t for   &  886 \\\\\n",
       "\t on    &  724 \\\\\n",
       "\t our   &  722 \\\\\n",
       "\t great &  703 \\\\\n",
       "\t will  &  675 \\\\\n",
       "\t are   &  659 \\\\\n",
       "\t with  &  647 \\\\\n",
       "\t we    &  620 \\\\\n",
       "\t i     &  602 \\\\\n",
       "\t be    &  573 \\\\\n",
       "\t amp   &  562 \\\\\n",
       "\t that  &  556 \\\\\n",
       "\t it    &  461 \\\\\n",
       "\t you   &  433 \\\\\n",
       "\t at    &  423 \\\\\n",
       "\t have  &  414 \\\\\n",
       "\t was   &  375 \\\\\n",
       "\t rt    &  351 \\\\\n",
       "\t all   &  350 \\\\\n",
       "\t they  &  336 \\\\\n",
       "\t ⋮ & ⋮\\\\\n",
       "\t 到着       & 1         \\\\\n",
       "\t 北朝鮮     & 1         \\\\\n",
       "\t 取り上げ   & 1         \\\\\n",
       "\t 同盟       & 1         \\\\\n",
       "\t 大         & 1         \\\\\n",
       "\t 大半       & 1         \\\\\n",
       "\t 尽くす     & 1         \\\\\n",
       "\t 成功       & 1         \\\\\n",
       "\t 拉致       & 1         \\\\\n",
       "\t 揺るぎない & 1         \\\\\n",
       "\t 日         & 1         \\\\\n",
       "\t 早速       & 1         \\\\\n",
       "\t 最善       & 1         \\\\\n",
       "\t 本当に     & 1         \\\\\n",
       "\t 来る       & 1         \\\\\n",
       "\t 歴史       & 1         \\\\\n",
       "\t 歴訪       & 1         \\\\\n",
       "\t 点         & 1         \\\\\n",
       "\t 的         & 1         \\\\\n",
       "\t 示す       & 1         \\\\\n",
       "\t 米         & 1         \\\\\n",
       "\t 米朝       & 1         \\\\\n",
       "\t 絆         & 1         \\\\\n",
       "\t 臨         & 1         \\\\\n",
       "\t 訪問       & 1         \\\\\n",
       "\t 認識       & 1         \\\\\n",
       "\t 費         & 1         \\\\\n",
       "\t 重要       & 1         \\\\\n",
       "\t 間違い     & 1         \\\\\n",
       "\t 非常       & 1         \\\\\n",
       "\\end{tabular}\n"
      ],
      "text/markdown": [
       "\n",
       "word | n | \n",
       "|---|---|---|---|---|---|---|---|---|---|---|---|---|---|---|---|---|---|---|---|---|---|---|---|---|---|---|---|---|---|---|---|---|---|---|---|---|---|---|---|---|---|---|---|---|---|---|---|---|---|---|---|---|---|---|---|---|---|---|---|---|\n",
       "| the   | 3681  | \n",
       "| to    | 2216  | \n",
       "| and   | 1959  | \n",
       "| of    | 1606  | \n",
       "| a     | 1299  | \n",
       "| t     | 1286  | \n",
       "| https | 1281  | \n",
       "| co    | 1265  | \n",
       "| in    | 1213  | \n",
       "| is    | 1045  | \n",
       "| for   |  886  | \n",
       "| on    |  724  | \n",
       "| our   |  722  | \n",
       "| great |  703  | \n",
       "| will  |  675  | \n",
       "| are   |  659  | \n",
       "| with  |  647  | \n",
       "| we    |  620  | \n",
       "| i     |  602  | \n",
       "| be    |  573  | \n",
       "| amp   |  562  | \n",
       "| that  |  556  | \n",
       "| it    |  461  | \n",
       "| you   |  433  | \n",
       "| at    |  423  | \n",
       "| have  |  414  | \n",
       "| was   |  375  | \n",
       "| rt    |  351  | \n",
       "| all   |  350  | \n",
       "| they  |  336  | \n",
       "| ⋮ | ⋮ | \n",
       "| 到着       | 1          | \n",
       "| 北朝鮮     | 1          | \n",
       "| 取り上げ   | 1          | \n",
       "| 同盟       | 1          | \n",
       "| 大         | 1          | \n",
       "| 大半       | 1          | \n",
       "| 尽くす     | 1          | \n",
       "| 成功       | 1          | \n",
       "| 拉致       | 1          | \n",
       "| 揺るぎない | 1          | \n",
       "| 日         | 1          | \n",
       "| 早速       | 1          | \n",
       "| 最善       | 1          | \n",
       "| 本当に     | 1          | \n",
       "| 来る       | 1          | \n",
       "| 歴史       | 1          | \n",
       "| 歴訪       | 1          | \n",
       "| 点         | 1          | \n",
       "| 的         | 1          | \n",
       "| 示す       | 1          | \n",
       "| 米         | 1          | \n",
       "| 米朝       | 1          | \n",
       "| 絆         | 1          | \n",
       "| 臨         | 1          | \n",
       "| 訪問       | 1          | \n",
       "| 認識       | 1          | \n",
       "| 費         | 1          | \n",
       "| 重要       | 1          | \n",
       "| 間違い     | 1          | \n",
       "| 非常       | 1          | \n",
       "\n",
       "\n"
      ],
      "text/plain": [
       "     word       n   \n",
       "1    the        3681\n",
       "2    to         2216\n",
       "3    and        1959\n",
       "4    of         1606\n",
       "5    a          1299\n",
       "6    t          1286\n",
       "7    https      1281\n",
       "8    co         1265\n",
       "9    in         1213\n",
       "10   is         1045\n",
       "11   for         886\n",
       "12   on          724\n",
       "13   our         722\n",
       "14   great       703\n",
       "15   will        675\n",
       "16   are         659\n",
       "17   with        647\n",
       "18   we          620\n",
       "19   i           602\n",
       "20   be          573\n",
       "21   amp         562\n",
       "22   that        556\n",
       "23   it          461\n",
       "24   you         433\n",
       "25   at          423\n",
       "26   have        414\n",
       "27   was         375\n",
       "28   rt          351\n",
       "29   all         350\n",
       "30   they        336\n",
       "⋮    ⋮          ⋮   \n",
       "8592 到着       1   \n",
       "8593 北朝鮮     1   \n",
       "8594 取り上げ   1   \n",
       "8595 同盟       1   \n",
       "8596 大         1   \n",
       "8597 大半       1   \n",
       "8598 尽くす     1   \n",
       "8599 成功       1   \n",
       "8600 拉致       1   \n",
       "8601 揺るぎない 1   \n",
       "8602 日         1   \n",
       "8603 早速       1   \n",
       "8604 最善       1   \n",
       "8605 本当に     1   \n",
       "8606 来る       1   \n",
       "8607 歴史       1   \n",
       "8608 歴訪       1   \n",
       "8609 点         1   \n",
       "8610 的         1   \n",
       "8611 示す       1   \n",
       "8612 米         1   \n",
       "8613 米朝       1   \n",
       "8614 絆         1   \n",
       "8615 臨         1   \n",
       "8616 訪問       1   \n",
       "8617 認識       1   \n",
       "8618 費         1   \n",
       "8619 重要       1   \n",
       "8620 間違い     1   \n",
       "8621 非常       1   "
      ]
     },
     "metadata": {},
     "output_type": "display_data"
    }
   ],
   "source": [
    "tidy_trump_tweets %>%\n",
    "  count(word) %>%\n",
    "    arrange(desc(n))"
   ]
  },
  {
   "cell_type": "code",
   "execution_count": 46,
   "metadata": {},
   "outputs": [
    {
     "name": "stderr",
     "output_type": "stream",
     "text": [
      "Joining, by = \"word\"\n"
     ]
    }
   ],
   "source": [
    "data(\"stop_words\")\n",
    "    tidy_trump_tweets<-tidy_trump_tweets %>%\n",
    "      anti_join(stop_words)\n",
    "\n",
    "tidy_trump_tweets<-tidy_trump_tweets[-grep(\"\\\\b\\\\d+\\\\b\", tidy_trump_tweets$word),]\n",
    "tidy_trump_tweets$word <- gsub(\"\\\\s+\",\"\",tidy_trump_tweets$word)\n",
    "\n",
    "\n",
    "## remove some extra nonsense\n",
    "# tidy_trump_tweets$word <- gsub(\"https\",\"\",tidy_trump_tweets$word)\n",
    "# tidy_trump_tweets$word <- gsub(\"rt \",\" \",tidy_trump_tweets$word)\n",
    "\n",
    "library(SnowballC)\n",
    "  tidy_trump_tweets<-tidy_trump_tweets %>%\n",
    "      mutate_at(\"word\", funs(wordStem((.), language=\"en\")))"
   ]
  },
  {
   "cell_type": "code",
   "execution_count": 47,
   "metadata": {},
   "outputs": [
    {
     "data": {
      "text/html": [
       "<table>\n",
       "<thead><tr><th scope=col>word</th><th scope=col>n</th></tr></thead>\n",
       "<tbody>\n",
       "\t<tr><td>https     </td><td>1281      </td></tr>\n",
       "\t<tr><td>amp       </td><td> 562      </td></tr>\n",
       "\t<tr><td>rt        </td><td> 351      </td></tr>\n",
       "\t<tr><td>peopl     </td><td> 304      </td></tr>\n",
       "\t<tr><td>news      </td><td> 271      </td></tr>\n",
       "\t<tr><td>job       </td><td> 261      </td></tr>\n",
       "\t<tr><td>presid    </td><td> 251      </td></tr>\n",
       "\t<tr><td>countri   </td><td> 248      </td></tr>\n",
       "\t<tr><td>tax       </td><td> 241      </td></tr>\n",
       "\t<tr><td>fake      </td><td> 236      </td></tr>\n",
       "\t<tr><td>trump     </td><td> 228      </td></tr>\n",
       "\t<tr><td>american  </td><td> 222      </td></tr>\n",
       "\t<tr><td>america   </td><td> 214      </td></tr>\n",
       "\t<tr><td>time      </td><td> 200      </td></tr>\n",
       "\t<tr><td>democrat  </td><td> 194      </td></tr>\n",
       "\t<tr><td>nation    </td><td> 177      </td></tr>\n",
       "\t<tr><td>republican</td><td> 169      </td></tr>\n",
       "\t<tr><td>cut       </td><td> 168      </td></tr>\n",
       "\t<tr><td>day       </td><td> 146      </td></tr>\n",
       "\t<tr><td>honor     </td><td> 146      </td></tr>\n",
       "\t<tr><td>media     </td><td> 138      </td></tr>\n",
       "\t<tr><td>meet      </td><td> 138      </td></tr>\n",
       "\t<tr><td>senat     </td><td> 137      </td></tr>\n",
       "\t<tr><td>border    </td><td> 135      </td></tr>\n",
       "\t<tr><td>elect     </td><td> 129      </td></tr>\n",
       "\t<tr><td>vote      </td><td> 128      </td></tr>\n",
       "\t<tr><td>hous      </td><td> 124      </td></tr>\n",
       "\t<tr><td>militari  </td><td> 122      </td></tr>\n",
       "\t<tr><td>bad       </td><td> 120      </td></tr>\n",
       "\t<tr><td>russia    </td><td> 117      </td></tr>\n",
       "\t<tr><td>⋮</td><td>⋮</td></tr>\n",
       "\t<tr><td>到着      </td><td>1         </td></tr>\n",
       "\t<tr><td>北朝鮮    </td><td>1         </td></tr>\n",
       "\t<tr><td>取り上げ  </td><td>1         </td></tr>\n",
       "\t<tr><td>同盟      </td><td>1         </td></tr>\n",
       "\t<tr><td>大        </td><td>1         </td></tr>\n",
       "\t<tr><td>大半      </td><td>1         </td></tr>\n",
       "\t<tr><td>尽くす    </td><td>1         </td></tr>\n",
       "\t<tr><td>成功      </td><td>1         </td></tr>\n",
       "\t<tr><td>拉致      </td><td>1         </td></tr>\n",
       "\t<tr><td>揺るぎない</td><td>1         </td></tr>\n",
       "\t<tr><td>日        </td><td>1         </td></tr>\n",
       "\t<tr><td>早速      </td><td>1         </td></tr>\n",
       "\t<tr><td>最善      </td><td>1         </td></tr>\n",
       "\t<tr><td>本当に    </td><td>1         </td></tr>\n",
       "\t<tr><td>来る      </td><td>1         </td></tr>\n",
       "\t<tr><td>歴史      </td><td>1         </td></tr>\n",
       "\t<tr><td>歴訪      </td><td>1         </td></tr>\n",
       "\t<tr><td>点        </td><td>1         </td></tr>\n",
       "\t<tr><td>的        </td><td>1         </td></tr>\n",
       "\t<tr><td>示す      </td><td>1         </td></tr>\n",
       "\t<tr><td>米        </td><td>1         </td></tr>\n",
       "\t<tr><td>米朝      </td><td>1         </td></tr>\n",
       "\t<tr><td>絆        </td><td>1         </td></tr>\n",
       "\t<tr><td>臨        </td><td>1         </td></tr>\n",
       "\t<tr><td>訪問      </td><td>1         </td></tr>\n",
       "\t<tr><td>認識      </td><td>1         </td></tr>\n",
       "\t<tr><td>費        </td><td>1         </td></tr>\n",
       "\t<tr><td>重要      </td><td>1         </td></tr>\n",
       "\t<tr><td>間違い    </td><td>1         </td></tr>\n",
       "\t<tr><td>非常      </td><td>1         </td></tr>\n",
       "</tbody>\n",
       "</table>\n"
      ],
      "text/latex": [
       "\\begin{tabular}{r|ll}\n",
       " word & n\\\\\n",
       "\\hline\n",
       "\t https      & 1281      \\\\\n",
       "\t amp        &  562      \\\\\n",
       "\t rt         &  351      \\\\\n",
       "\t peopl      &  304      \\\\\n",
       "\t news       &  271      \\\\\n",
       "\t job        &  261      \\\\\n",
       "\t presid     &  251      \\\\\n",
       "\t countri    &  248      \\\\\n",
       "\t tax        &  241      \\\\\n",
       "\t fake       &  236      \\\\\n",
       "\t trump      &  228      \\\\\n",
       "\t american   &  222      \\\\\n",
       "\t america    &  214      \\\\\n",
       "\t time       &  200      \\\\\n",
       "\t democrat   &  194      \\\\\n",
       "\t nation     &  177      \\\\\n",
       "\t republican &  169      \\\\\n",
       "\t cut        &  168      \\\\\n",
       "\t day        &  146      \\\\\n",
       "\t honor      &  146      \\\\\n",
       "\t media      &  138      \\\\\n",
       "\t meet       &  138      \\\\\n",
       "\t senat      &  137      \\\\\n",
       "\t border     &  135      \\\\\n",
       "\t elect      &  129      \\\\\n",
       "\t vote       &  128      \\\\\n",
       "\t hous       &  124      \\\\\n",
       "\t militari   &  122      \\\\\n",
       "\t bad        &  120      \\\\\n",
       "\t russia     &  117      \\\\\n",
       "\t ⋮ & ⋮\\\\\n",
       "\t 到着       & 1         \\\\\n",
       "\t 北朝鮮     & 1         \\\\\n",
       "\t 取り上げ   & 1         \\\\\n",
       "\t 同盟       & 1         \\\\\n",
       "\t 大         & 1         \\\\\n",
       "\t 大半       & 1         \\\\\n",
       "\t 尽くす     & 1         \\\\\n",
       "\t 成功       & 1         \\\\\n",
       "\t 拉致       & 1         \\\\\n",
       "\t 揺るぎない & 1         \\\\\n",
       "\t 日         & 1         \\\\\n",
       "\t 早速       & 1         \\\\\n",
       "\t 最善       & 1         \\\\\n",
       "\t 本当に     & 1         \\\\\n",
       "\t 来る       & 1         \\\\\n",
       "\t 歴史       & 1         \\\\\n",
       "\t 歴訪       & 1         \\\\\n",
       "\t 点         & 1         \\\\\n",
       "\t 的         & 1         \\\\\n",
       "\t 示す       & 1         \\\\\n",
       "\t 米         & 1         \\\\\n",
       "\t 米朝       & 1         \\\\\n",
       "\t 絆         & 1         \\\\\n",
       "\t 臨         & 1         \\\\\n",
       "\t 訪問       & 1         \\\\\n",
       "\t 認識       & 1         \\\\\n",
       "\t 費         & 1         \\\\\n",
       "\t 重要       & 1         \\\\\n",
       "\t 間違い     & 1         \\\\\n",
       "\t 非常       & 1         \\\\\n",
       "\\end{tabular}\n"
      ],
      "text/markdown": [
       "\n",
       "word | n | \n",
       "|---|---|---|---|---|---|---|---|---|---|---|---|---|---|---|---|---|---|---|---|---|---|---|---|---|---|---|---|---|---|---|---|---|---|---|---|---|---|---|---|---|---|---|---|---|---|---|---|---|---|---|---|---|---|---|---|---|---|---|---|---|\n",
       "| https      | 1281       | \n",
       "| amp        |  562       | \n",
       "| rt         |  351       | \n",
       "| peopl      |  304       | \n",
       "| news       |  271       | \n",
       "| job        |  261       | \n",
       "| presid     |  251       | \n",
       "| countri    |  248       | \n",
       "| tax        |  241       | \n",
       "| fake       |  236       | \n",
       "| trump      |  228       | \n",
       "| american   |  222       | \n",
       "| america    |  214       | \n",
       "| time       |  200       | \n",
       "| democrat   |  194       | \n",
       "| nation     |  177       | \n",
       "| republican |  169       | \n",
       "| cut        |  168       | \n",
       "| day        |  146       | \n",
       "| honor      |  146       | \n",
       "| media      |  138       | \n",
       "| meet       |  138       | \n",
       "| senat      |  137       | \n",
       "| border     |  135       | \n",
       "| elect      |  129       | \n",
       "| vote       |  128       | \n",
       "| hous       |  124       | \n",
       "| militari   |  122       | \n",
       "| bad        |  120       | \n",
       "| russia     |  117       | \n",
       "| ⋮ | ⋮ | \n",
       "| 到着       | 1          | \n",
       "| 北朝鮮     | 1          | \n",
       "| 取り上げ   | 1          | \n",
       "| 同盟       | 1          | \n",
       "| 大         | 1          | \n",
       "| 大半       | 1          | \n",
       "| 尽くす     | 1          | \n",
       "| 成功       | 1          | \n",
       "| 拉致       | 1          | \n",
       "| 揺るぎない | 1          | \n",
       "| 日         | 1          | \n",
       "| 早速       | 1          | \n",
       "| 最善       | 1          | \n",
       "| 本当に     | 1          | \n",
       "| 来る       | 1          | \n",
       "| 歴史       | 1          | \n",
       "| 歴訪       | 1          | \n",
       "| 点         | 1          | \n",
       "| 的         | 1          | \n",
       "| 示す       | 1          | \n",
       "| 米         | 1          | \n",
       "| 米朝       | 1          | \n",
       "| 絆         | 1          | \n",
       "| 臨         | 1          | \n",
       "| 訪問       | 1          | \n",
       "| 認識       | 1          | \n",
       "| 費         | 1          | \n",
       "| 重要       | 1          | \n",
       "| 間違い     | 1          | \n",
       "| 非常       | 1          | \n",
       "\n",
       "\n"
      ],
      "text/plain": [
       "     word       n   \n",
       "1    https      1281\n",
       "2    amp         562\n",
       "3    rt          351\n",
       "4    peopl       304\n",
       "5    news        271\n",
       "6    job         261\n",
       "7    presid      251\n",
       "8    countri     248\n",
       "9    tax         241\n",
       "10   fake        236\n",
       "11   trump       228\n",
       "12   american    222\n",
       "13   america     214\n",
       "14   time        200\n",
       "15   democrat    194\n",
       "16   nation      177\n",
       "17   republican  169\n",
       "18   cut         168\n",
       "19   day         146\n",
       "20   honor       146\n",
       "21   media       138\n",
       "22   meet        138\n",
       "23   senat       137\n",
       "24   border      135\n",
       "25   elect       129\n",
       "26   vote        128\n",
       "27   hous        124\n",
       "28   militari    122\n",
       "29   bad         120\n",
       "30   russia      117\n",
       "⋮    ⋮          ⋮   \n",
       "6179 到着       1   \n",
       "6180 北朝鮮     1   \n",
       "6181 取り上げ   1   \n",
       "6182 同盟       1   \n",
       "6183 大         1   \n",
       "6184 大半       1   \n",
       "6185 尽くす     1   \n",
       "6186 成功       1   \n",
       "6187 拉致       1   \n",
       "6188 揺るぎない 1   \n",
       "6189 日         1   \n",
       "6190 早速       1   \n",
       "6191 最善       1   \n",
       "6192 本当に     1   \n",
       "6193 来る       1   \n",
       "6194 歴史       1   \n",
       "6195 歴訪       1   \n",
       "6196 点         1   \n",
       "6197 的         1   \n",
       "6198 示す       1   \n",
       "6199 米         1   \n",
       "6200 米朝       1   \n",
       "6201 絆         1   \n",
       "6202 臨         1   \n",
       "6203 訪問       1   \n",
       "6204 認識       1   \n",
       "6205 費         1   \n",
       "6206 重要       1   \n",
       "6207 間違い     1   \n",
       "6208 非常       1   "
      ]
     },
     "metadata": {},
     "output_type": "display_data"
    }
   ],
   "source": [
    "tidy_trump_tweets %>%\n",
    "  count(word) %>%\n",
    "    arrange(desc(n))"
   ]
  },
  {
   "cell_type": "code",
   "execution_count": 48,
   "metadata": {},
   "outputs": [
    {
     "name": "stderr",
     "output_type": "stream",
     "text": [
      "Warning message:\n",
      "“Trying to compute distinct() for variables not found in the data:\n",
      "- `row_col`, `column_col`\n",
      "This is an error, but only a warning is raised for compatibility reasons.\n",
      "The operation will return the input unchanged.”"
     ]
    }
   ],
   "source": [
    "tidy_trump_DTM <-\n",
    "  tidy_trump_tweets %>%\n",
    "  count(created_at, word) %>%\n",
    "  cast_dtm(created_at, word, n)"
   ]
  },
  {
   "cell_type": "code",
   "execution_count": 51,
   "metadata": {},
   "outputs": [
    {
     "data": {
      "text/plain": [
       "<<DocumentTermMatrix (documents: 3191, terms: 6208)>>\n",
       "Non-/sparse entries: 35233/19774495\n",
       "Sparsity           : 100%\n",
       "Maximal term length: 29\n",
       "Weighting          : term frequency (tf)"
      ]
     },
     "metadata": {},
     "output_type": "display_data"
    }
   ],
   "source": [
    "tidy_trump_DTM"
   ]
  },
  {
   "cell_type": "code",
   "execution_count": 52,
   "metadata": {},
   "outputs": [
    {
     "name": "stderr",
     "output_type": "stream",
     "text": [
      "Joining, by = \"word\"\n"
     ]
    }
   ],
   "source": [
    "tidy_trump_tfidf<- trumptweets %>%\n",
    "    select(created_at,text) %>%\n",
    "      unnest_tokens(\"word\", text) %>%\n",
    "        anti_join(stop_words) %>%\n",
    "           count(word, created_at) %>%\n",
    "              bind_tf_idf(word, created_at, n)"
   ]
  },
  {
   "cell_type": "code",
   "execution_count": 53,
   "metadata": {},
   "outputs": [
    {
     "data": {
      "text/html": [
       "'standforouranthem'"
      ],
      "text/latex": [
       "'standforouranthem'"
      ],
      "text/markdown": [
       "'standforouranthem'"
      ],
      "text/plain": [
       "[1] \"standforouranthem\""
      ]
     },
     "metadata": {},
     "output_type": "display_data"
    }
   ],
   "source": [
    "top_tfidf<-tidy_trump_tfidf %>%\n",
    "  arrange(desc(tf_idf))\n",
    "\n",
    "top_tfidf$word[1]"
   ]
  },
  {
   "cell_type": "code",
   "execution_count": null,
   "metadata": {},
   "outputs": [],
   "source": []
  }
 ],
 "metadata": {
  "kernelspec": {
   "display_name": "R",
   "language": "R",
   "name": "ir"
  },
  "language_info": {
   "codemirror_mode": "r",
   "file_extension": ".r",
   "mimetype": "text/x-r-source",
   "name": "R",
   "pygments_lexer": "r",
   "version": "3.5.0"
  }
 },
 "nbformat": 4,
 "nbformat_minor": 2
}
