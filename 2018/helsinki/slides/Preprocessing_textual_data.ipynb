{
 "cells": [
  {
   "cell_type": "code",
   "execution_count": null,
   "metadata": {},
   "outputs": [],
   "source": [
    "uglytext <- \"Class of 2018: Senior Stories of Discovery, Learning and Serving\\n\\n\\t\\t\\t\\t\\t\\t\\t\""
   ]
  },
  {
   "cell_type": "markdown",
   "metadata": {},
   "source": [
    "## Power of GREP\n",
    "\n",
    "See manual [here](http://www.rstudio.com/wp-content/uploads/2016/09/RegExCheatsheet.pdf)."
   ]
  },
  {
   "cell_type": "code",
   "execution_count": null,
   "metadata": {},
   "outputs": [],
   "source": [
    "gsub(\"what to change\", \"what to replace\", \"what to change in this text\")"
   ]
  },
  {
   "cell_type": "code",
   "execution_count": null,
   "metadata": {},
   "outputs": [],
   "source": [
    "gsub(\"\\t\", \"\", uglytext)"
   ]
  },
  {
   "cell_type": "code",
   "execution_count": null,
   "metadata": {},
   "outputs": [],
   "source": [
    "gsub(\"[^[:alpha:]]\", \" \", uglytext)"
   ]
  },
  {
   "cell_type": "markdown",
   "metadata": {},
   "source": [
    "## Working with a corpus and document-term-matrix"
   ]
  },
  {
   "cell_type": "code",
   "execution_count": null,
   "metadata": {},
   "outputs": [],
   "source": [
    "## Loading example text data\n",
    "\n",
    "load(url(\"https://cbail.github.io/Trump_Tweets.Rdata\"))\n",
    "head(trumptweets)"
   ]
  },
  {
   "cell_type": "code",
   "execution_count": null,
   "metadata": {},
   "outputs": [],
   "source": [
    "library(tm)\n",
    "trump_corpus <- Corpus(VectorSource( trumptweets$text) ) "
   ]
  },
  {
   "cell_type": "markdown",
   "metadata": {},
   "source": [
    "Other ways to use read your corpus:\n",
    "\n",
    "``Corpus( DirSource(directory = \"directory\") )``\n",
    "\n",
    "``Corpus( VectorSource( dataframe$variable ) )``"
   ]
  },
  {
   "cell_type": "code",
   "execution_count": null,
   "metadata": {},
   "outputs": [],
   "source": [
    "library(tidytext)\n",
    "library(dplyr)"
   ]
  },
  {
   "cell_type": "code",
   "execution_count": null,
   "metadata": {},
   "outputs": [],
   "source": [
    "tidy_trump_tweets<- trumptweets %>%\n",
    "    select(created_at,text) %>%\n",
    "    unnest_tokens(\"word\", text)"
   ]
  },
  {
   "cell_type": "code",
   "execution_count": null,
   "metadata": {},
   "outputs": [],
   "source": [
    "head( tidy_trump_tweets )"
   ]
  },
  {
   "cell_type": "code",
   "execution_count": null,
   "metadata": {},
   "outputs": [],
   "source": [
    "tidy_trump_tweets %>%\n",
    "  count(word) %>%\n",
    "    arrange(desc(n))"
   ]
  },
  {
   "cell_type": "code",
   "execution_count": null,
   "metadata": {},
   "outputs": [],
   "source": [
    "data(\"stop_words\")\n",
    "    tidy_trump_tweets<-tidy_trump_tweets %>%\n",
    "      anti_join(stop_words)\n",
    "\n",
    "tidy_trump_tweets<-tidy_trump_tweets[-grep(\"\\\\b\\\\d+\\\\b\", tidy_trump_tweets$word),]\n",
    "tidy_trump_tweets$word <- gsub(\"\\\\s+\",\"\",tidy_trump_tweets$word)\n",
    "\n",
    "\n",
    "## remove some extra nonsense\n",
    "# tidy_trump_tweets$word <- gsub(\"https\",\"\",tidy_trump_tweets$word)\n",
    "# tidy_trump_tweets$word <- gsub(\"rt \",\" \",tidy_trump_tweets$word)\n",
    "\n",
    "library(SnowballC)\n",
    "  tidy_trump_tweets<-tidy_trump_tweets %>%\n",
    "      mutate_at(\"word\", funs(wordStem((.), language=\"en\")))"
   ]
  },
  {
   "cell_type": "code",
   "execution_count": null,
   "metadata": {},
   "outputs": [],
   "source": [
    "tidy_trump_tweets %>%\n",
    "  count(word) %>%\n",
    "    arrange(desc(n))"
   ]
  },
  {
   "cell_type": "code",
   "execution_count": null,
   "metadata": {},
   "outputs": [],
   "source": [
    "tidy_trump_DTM <-\n",
    "  tidy_trump_tweets %>%\n",
    "  count(created_at, word) %>%\n",
    "  cast_dtm(created_at, word, n)"
   ]
  },
  {
   "cell_type": "code",
   "execution_count": null,
   "metadata": {},
   "outputs": [],
   "source": [
    "tidy_trump_DTM"
   ]
  },
  {
   "cell_type": "code",
   "execution_count": null,
   "metadata": {},
   "outputs": [],
   "source": [
    "tidy_trump_tfidf<- trumptweets %>%\n",
    "    select(created_at,text) %>%\n",
    "      unnest_tokens(\"word\", text) %>%\n",
    "        anti_join(stop_words) %>%\n",
    "           count(word, created_at) %>%\n",
    "              bind_tf_idf(word, created_at, n)"
   ]
  },
  {
   "cell_type": "code",
   "execution_count": null,
   "metadata": {},
   "outputs": [],
   "source": [
    "top_tfidf<-tidy_trump_tfidf %>%\n",
    "  arrange(desc(tf_idf))\n",
    "\n",
    "top_tfidf$word[1]"
   ]
  },
  {
   "cell_type": "code",
   "execution_count": null,
   "metadata": {},
   "outputs": [],
   "source": []
  }
 ],
 "metadata": {
  "kernelspec": {
   "display_name": "R",
   "language": "R",
   "name": "ir"
  },
  "language_info": {
   "codemirror_mode": "r",
   "file_extension": ".r",
   "mimetype": "text/x-r-source",
   "name": "R",
   "pygments_lexer": "r",
   "version": "3.5.0"
  }
 },
 "nbformat": 4,
 "nbformat_minor": 2
}
